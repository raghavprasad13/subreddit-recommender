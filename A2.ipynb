{
 "cells": [
  {
   "cell_type": "code",
   "execution_count": 1,
   "metadata": {},
   "outputs": [],
   "source": [
    "import gzip\n",
    "from collections import defaultdict\n",
    "from sklearn import linear_model\n",
    "import csv\n",
    "import random\n",
    "import matplotlib\n",
    "import matplotlib.pyplot as plt\n",
    "from functools import lru_cache\n",
    "import numpy as np\n",
    "import pandas as pd\n",
    "import sys\n",
    "from datetime import datetime\n",
    "from sklearn.preprocessing import OneHotEncoder\n",
    "from sklearn.linear_model import LinearRegression\n",
    "from tqdm import tqdm"
   ]
  },
  {
   "cell_type": "code",
   "execution_count": 2,
   "metadata": {},
   "outputs": [],
   "source": [
    "import matplotlib.pyplot as plt\n",
    "\n",
    "SMALL_SIZE = 20\n",
    "MEDIUM_SIZE = 20\n",
    "BIGGER_SIZE = 20\n",
    "\n",
    "plt.rc('font', size=SMALL_SIZE)          # controls default text sizes\n",
    "plt.rc('axes', titlesize=SMALL_SIZE)     # fontsize of the axes title\n",
    "plt.rc('axes', labelsize=MEDIUM_SIZE)    # fontsize of the x and y labels\n",
    "plt.rc('xtick', labelsize=SMALL_SIZE)    # fontsize of the tick labels\n",
    "plt.rc('ytick', labelsize=SMALL_SIZE)    # fontsize of the tick labels\n",
    "plt.rc('legend', fontsize=SMALL_SIZE)    # legend fontsize\n",
    "plt.rc('figure', titlesize=BIGGER_SIZE)  # fontsize of the figure title"
   ]
  },
  {
   "cell_type": "code",
   "execution_count": 3,
   "metadata": {},
   "outputs": [],
   "source": [
    "def readGz(path):\n",
    "    for l in gzip.open(path, 'rt'):\n",
    "        yield eval(l)"
   ]
  },
  {
   "cell_type": "code",
   "execution_count": 4,
   "metadata": {},
   "outputs": [],
   "source": [
    "def readCSV(path):\n",
    "    f = gzip.open(path, 'rt')\n",
    "    c = csv.reader(f)\n",
    "    header = next(c)\n",
    "    for l in c:\n",
    "        d = dict(zip(header,l))\n",
    "        yield d"
   ]
  },
  {
   "cell_type": "markdown",
   "metadata": {},
   "source": [
    "## Data Filtering"
   ]
  },
  {
   "cell_type": "code",
   "execution_count": 5,
   "metadata": {},
   "outputs": [],
   "source": [
    "data_=[]\n",
    "for d in readCSV(\"subscribers_count.csv.gz\"):\n",
    "    data_.append(d)"
   ]
  },
  {
   "cell_type": "code",
   "execution_count": 6,
   "metadata": {},
   "outputs": [],
   "source": [
    "sub_count={}\n",
    "for d in data_:\n",
    "    sub_count[d['subreddit']]=int(d['subscribers'])\n",
    "    \n",
    "avSub=sum(sub_count.values())/len(sub_count)"
   ]
  },
  {
   "cell_type": "code",
   "execution_count": 7,
   "metadata": {},
   "outputs": [
    {
     "data": {
      "text/plain": [
       "63740.865577889446"
      ]
     },
     "execution_count": 7,
     "metadata": {},
     "output_type": "execute_result"
    }
   ],
   "source": [
    "avSub"
   ]
  },
  {
   "cell_type": "code",
   "execution_count": 8,
   "metadata": {},
   "outputs": [],
   "source": [
    "data=[]\n",
    "for d in readCSV(\"redditSubmissions.csv.gz\"):\n",
    "    data.append(d)"
   ]
  },
  {
   "cell_type": "code",
   "execution_count": 9,
   "metadata": {},
   "outputs": [],
   "source": [
    "df=pd.DataFrame(data)"
   ]
  },
  {
   "cell_type": "code",
   "execution_count": 10,
   "metadata": {},
   "outputs": [
    {
     "data": {
      "text/html": [
       "<div>\n",
       "<style scoped>\n",
       "    .dataframe tbody tr th:only-of-type {\n",
       "        vertical-align: middle;\n",
       "    }\n",
       "\n",
       "    .dataframe tbody tr th {\n",
       "        vertical-align: top;\n",
       "    }\n",
       "\n",
       "    .dataframe thead th {\n",
       "        text-align: right;\n",
       "    }\n",
       "</style>\n",
       "<table border=\"1\" class=\"dataframe\">\n",
       "  <thead>\n",
       "    <tr style=\"text-align: right;\">\n",
       "      <th></th>\n",
       "      <th>#image_id</th>\n",
       "      <th>unixtime</th>\n",
       "      <th>rawtime</th>\n",
       "      <th>title</th>\n",
       "      <th>total_votes</th>\n",
       "      <th>reddit_id</th>\n",
       "      <th>number_of_upvotes</th>\n",
       "      <th>subreddit</th>\n",
       "      <th>number_of_downvotes</th>\n",
       "      <th>localtime</th>\n",
       "      <th>score</th>\n",
       "      <th>number_of_comments</th>\n",
       "      <th>username</th>\n",
       "    </tr>\n",
       "  </thead>\n",
       "  <tbody>\n",
       "    <tr>\n",
       "      <th>0</th>\n",
       "      <td>0</td>\n",
       "      <td>1333172439</td>\n",
       "      <td>2012-03-31T12:40:39.590113-07:00</td>\n",
       "      <td>And here's a downvote.</td>\n",
       "      <td>63470</td>\n",
       "      <td>rmqjs</td>\n",
       "      <td>32657</td>\n",
       "      <td>funny</td>\n",
       "      <td>30813</td>\n",
       "      <td>1333197639</td>\n",
       "      <td>1844</td>\n",
       "      <td>622</td>\n",
       "      <td>Animates_Everything</td>\n",
       "    </tr>\n",
       "    <tr>\n",
       "      <th>1</th>\n",
       "      <td>0</td>\n",
       "      <td>1333178161</td>\n",
       "      <td>2012-03-31T14:16:01.093638-07:00</td>\n",
       "      <td>Expectation</td>\n",
       "      <td>35</td>\n",
       "      <td>rmun4</td>\n",
       "      <td>29</td>\n",
       "      <td>GifSound</td>\n",
       "      <td>6</td>\n",
       "      <td>1333203361</td>\n",
       "      <td>23</td>\n",
       "      <td>3</td>\n",
       "      <td>Gangsta_Raper</td>\n",
       "    </tr>\n",
       "    <tr>\n",
       "      <th>2</th>\n",
       "      <td>0</td>\n",
       "      <td>1333199913</td>\n",
       "      <td>2012-03-31T20:18:33.192906-07:00</td>\n",
       "      <td>Downvote</td>\n",
       "      <td>41</td>\n",
       "      <td>rna86</td>\n",
       "      <td>32</td>\n",
       "      <td>GifSound</td>\n",
       "      <td>9</td>\n",
       "      <td>1333225113</td>\n",
       "      <td>23</td>\n",
       "      <td>0</td>\n",
       "      <td>Gangsta_Raper</td>\n",
       "    </tr>\n",
       "    <tr>\n",
       "      <th>3</th>\n",
       "      <td>0</td>\n",
       "      <td>1333252330</td>\n",
       "      <td>2012-04-01T10:52:10-07:00</td>\n",
       "      <td>Every time I downvote something</td>\n",
       "      <td>10</td>\n",
       "      <td>ro7e4</td>\n",
       "      <td>6</td>\n",
       "      <td>GifSound</td>\n",
       "      <td>4</td>\n",
       "      <td>1333277530</td>\n",
       "      <td>2</td>\n",
       "      <td>0</td>\n",
       "      <td>Gangsta_Raper</td>\n",
       "    </tr>\n",
       "    <tr>\n",
       "      <th>4</th>\n",
       "      <td>0</td>\n",
       "      <td>1333272954</td>\n",
       "      <td>2012-04-01T16:35:54.393381-07:00</td>\n",
       "      <td>Downvote &amp;quot;Dies Irae&amp;quot;</td>\n",
       "      <td>65</td>\n",
       "      <td>rooof</td>\n",
       "      <td>57</td>\n",
       "      <td>GifSound</td>\n",
       "      <td>8</td>\n",
       "      <td>1333298154</td>\n",
       "      <td>49</td>\n",
       "      <td>0</td>\n",
       "      <td>Gangsta_Raper</td>\n",
       "    </tr>\n",
       "    <tr>\n",
       "      <th>...</th>\n",
       "      <td>...</td>\n",
       "      <td>...</td>\n",
       "      <td>...</td>\n",
       "      <td>...</td>\n",
       "      <td>...</td>\n",
       "      <td>...</td>\n",
       "      <td>...</td>\n",
       "      <td>...</td>\n",
       "      <td>...</td>\n",
       "      <td>...</td>\n",
       "      <td>...</td>\n",
       "      <td>...</td>\n",
       "      <td>...</td>\n",
       "    </tr>\n",
       "    <tr>\n",
       "      <th>132303</th>\n",
       "      <td>9998</td>\n",
       "      <td>1344759846</td>\n",
       "      <td>2012-08-12T15:24:06-07:00</td>\n",
       "      <td>OM NOM NOM</td>\n",
       "      <td>34</td>\n",
       "      <td>y41wv</td>\n",
       "      <td>25</td>\n",
       "      <td>funny</td>\n",
       "      <td>9</td>\n",
       "      <td>1344785046</td>\n",
       "      <td>16</td>\n",
       "      <td>0</td>\n",
       "      <td>vaggietales</td>\n",
       "    </tr>\n",
       "    <tr>\n",
       "      <th>132304</th>\n",
       "      <td>9998</td>\n",
       "      <td>1345270178</td>\n",
       "      <td>2012-08-18T13:09:38-07:00</td>\n",
       "      <td>Don't feed the animals...</td>\n",
       "      <td>19</td>\n",
       "      <td>yfw66</td>\n",
       "      <td>14</td>\n",
       "      <td>funny</td>\n",
       "      <td>5</td>\n",
       "      <td>1345295378</td>\n",
       "      <td>9</td>\n",
       "      <td>2</td>\n",
       "      <td>Deydria</td>\n",
       "    </tr>\n",
       "    <tr>\n",
       "      <th>132305</th>\n",
       "      <td>9998</td>\n",
       "      <td>1345953962</td>\n",
       "      <td>2012-08-26T04:06:02+00:00</td>\n",
       "      <td>WTF worthy.</td>\n",
       "      <td>49</td>\n",
       "      <td>yu838</td>\n",
       "      <td>26</td>\n",
       "      <td>WTF</td>\n",
       "      <td>23</td>\n",
       "      <td>1345953962</td>\n",
       "      <td>3</td>\n",
       "      <td>6</td>\n",
       "      <td>beatlesrock</td>\n",
       "    </tr>\n",
       "    <tr>\n",
       "      <th>132306</th>\n",
       "      <td>9998</td>\n",
       "      <td>1346625906</td>\n",
       "      <td>2012-09-02T22:45:06+00:00</td>\n",
       "      <td>Just a camel eating a kids head, welcome to th...</td>\n",
       "      <td>123</td>\n",
       "      <td>z91ah</td>\n",
       "      <td>65</td>\n",
       "      <td>WTF</td>\n",
       "      <td>58</td>\n",
       "      <td>1346625906</td>\n",
       "      <td>7</td>\n",
       "      <td>12</td>\n",
       "      <td>v7o</td>\n",
       "    </tr>\n",
       "    <tr>\n",
       "      <th>132307</th>\n",
       "      <td>9998</td>\n",
       "      <td>1347717643</td>\n",
       "      <td>2012-09-15T14:00:43+00:00</td>\n",
       "      <td>Ass is looking at a little girl eaten by camel.</td>\n",
       "      <td>425</td>\n",
       "      <td>zxbsj</td>\n",
       "      <td>272</td>\n",
       "      <td>WTF</td>\n",
       "      <td>153</td>\n",
       "      <td>1347717643</td>\n",
       "      <td>119</td>\n",
       "      <td>10</td>\n",
       "      <td>NSFW_PORN_ONLY</td>\n",
       "    </tr>\n",
       "  </tbody>\n",
       "</table>\n",
       "<p>132308 rows × 13 columns</p>\n",
       "</div>"
      ],
      "text/plain": [
       "       #image_id    unixtime                           rawtime  \\\n",
       "0              0  1333172439  2012-03-31T12:40:39.590113-07:00   \n",
       "1              0  1333178161  2012-03-31T14:16:01.093638-07:00   \n",
       "2              0  1333199913  2012-03-31T20:18:33.192906-07:00   \n",
       "3              0  1333252330         2012-04-01T10:52:10-07:00   \n",
       "4              0  1333272954  2012-04-01T16:35:54.393381-07:00   \n",
       "...          ...         ...                               ...   \n",
       "132303      9998  1344759846         2012-08-12T15:24:06-07:00   \n",
       "132304      9998  1345270178         2012-08-18T13:09:38-07:00   \n",
       "132305      9998  1345953962         2012-08-26T04:06:02+00:00   \n",
       "132306      9998  1346625906         2012-09-02T22:45:06+00:00   \n",
       "132307      9998  1347717643         2012-09-15T14:00:43+00:00   \n",
       "\n",
       "                                                    title total_votes  \\\n",
       "0                                  And here's a downvote.       63470   \n",
       "1                                             Expectation          35   \n",
       "2                                                Downvote          41   \n",
       "3                         Every time I downvote something          10   \n",
       "4                          Downvote &quot;Dies Irae&quot;          65   \n",
       "...                                                   ...         ...   \n",
       "132303                                         OM NOM NOM          34   \n",
       "132304                          Don't feed the animals...          19   \n",
       "132305                                        WTF worthy.          49   \n",
       "132306  Just a camel eating a kids head, welcome to th...         123   \n",
       "132307    Ass is looking at a little girl eaten by camel.         425   \n",
       "\n",
       "       reddit_id number_of_upvotes subreddit number_of_downvotes   localtime  \\\n",
       "0          rmqjs             32657     funny               30813  1333197639   \n",
       "1          rmun4                29  GifSound                   6  1333203361   \n",
       "2          rna86                32  GifSound                   9  1333225113   \n",
       "3          ro7e4                 6  GifSound                   4  1333277530   \n",
       "4          rooof                57  GifSound                   8  1333298154   \n",
       "...          ...               ...       ...                 ...         ...   \n",
       "132303     y41wv                25     funny                   9  1344785046   \n",
       "132304     yfw66                14     funny                   5  1345295378   \n",
       "132305     yu838                26       WTF                  23  1345953962   \n",
       "132306     z91ah                65       WTF                  58  1346625906   \n",
       "132307     zxbsj               272       WTF                 153  1347717643   \n",
       "\n",
       "       score number_of_comments             username  \n",
       "0       1844                622  Animates_Everything  \n",
       "1         23                  3        Gangsta_Raper  \n",
       "2         23                  0        Gangsta_Raper  \n",
       "3          2                  0        Gangsta_Raper  \n",
       "4         49                  0        Gangsta_Raper  \n",
       "...      ...                ...                  ...  \n",
       "132303    16                  0          vaggietales  \n",
       "132304     9                  2              Deydria  \n",
       "132305     3                  6          beatlesrock  \n",
       "132306     7                 12                  v7o  \n",
       "132307   119                 10       NSFW_PORN_ONLY  \n",
       "\n",
       "[132308 rows x 13 columns]"
      ]
     },
     "execution_count": 10,
     "metadata": {},
     "output_type": "execute_result"
    }
   ],
   "source": [
    "#Original Data\n",
    "df"
   ]
  },
  {
   "cell_type": "code",
   "execution_count": 11,
   "metadata": {},
   "outputs": [
    {
     "data": {
      "text/plain": [
       "{'#image_id': '0',\n",
       " 'unixtime': '1333172439',\n",
       " 'rawtime': '2012-03-31T12:40:39.590113-07:00',\n",
       " 'title': \"And here's a downvote.\",\n",
       " 'total_votes': '63470',\n",
       " 'reddit_id': 'rmqjs',\n",
       " 'number_of_upvotes': '32657',\n",
       " 'subreddit': 'funny',\n",
       " 'number_of_downvotes': '30813',\n",
       " 'localtime': '1333197639',\n",
       " 'score': '1844',\n",
       " 'number_of_comments': '622',\n",
       " 'username': 'Animates_Everything'}"
      ]
     },
     "execution_count": 11,
     "metadata": {},
     "output_type": "execute_result"
    }
   ],
   "source": [
    "data[0]"
   ]
  },
  {
   "cell_type": "code",
   "execution_count": 12,
   "metadata": {},
   "outputs": [],
   "source": [
    "# Making Data Batter\n",
    "\n",
    "# Removing some random useless entry\n",
    "del data[53033]\n",
    "\n",
    "# Value Typecasting\n",
    "max_title_len=0\n",
    "max_subscribers=0\n",
    "max_unix_time=0\n",
    "min_unix_time=float('inf')\n",
    "\n",
    "for d in data:\n",
    "    d['unixtime']=int(d['unixtime'])\n",
    "    d['total_votes']=int(d['total_votes'])\n",
    "    d['number_of_upvotes']=int(d['number_of_upvotes'])\n",
    "    d['number_of_downvotes']=int(d['number_of_downvotes'])\n",
    "    d['localtime']=int(d['localtime'])\n",
    "    d['score']=int(d['score'])\n",
    "    d['number_of_comments']=max(int(d['number_of_comments']),0)\n",
    "    \n",
    "    max_unix_time=max(max_unix_time, d['unixtime'])\n",
    "    min_unix_time = min(min_unix_time, d['unixtime'])\n",
    "    \n",
    "# Adding some nice features\n",
    "for d in data:\n",
    "    if int(d['total_votes'])==0:\n",
    "        d['score_norm']=0\n",
    "    else:\n",
    "        d['score_norm']=float(d['number_of_upvotes']/d['total_votes'])\n",
    "        \n",
    "    d['title_len']=len(d['title'])\n",
    "    max_title_len=max(max_title_len,d['title_len'])\n",
    "\n",
    "for d in data:\n",
    "    dt_object=datetime.fromtimestamp(d['unixtime'])\n",
    "    d['weekday']=int(dt_object.weekday())\n",
    "    d['timeOfDay']=int(dt_object.time().hour)\n",
    "    \n",
    "    sub=d['subreddit']\n",
    "    subscribe=avSub\n",
    "    if sub in sub_count:\n",
    "        subscribe = sub_count[sub]\n",
    "    \n",
    "    d['subscribers']=subscribe\n",
    "    max_subscribers=max(max_subscribers,d['subscribers'])\n",
    "    \n",
    "    \n",
    "def filter(row):\n",
    "    return row['total_votes'] >= 10\n",
    "\n",
    "data = [d for d in data if filter(d)]"
   ]
  },
  {
   "cell_type": "code",
   "execution_count": 13,
   "metadata": {},
   "outputs": [],
   "source": [
    "df_=pd.DataFrame(data)"
   ]
  },
  {
   "cell_type": "code",
   "execution_count": 14,
   "metadata": {},
   "outputs": [
    {
     "data": {
      "text/html": [
       "<div>\n",
       "<style scoped>\n",
       "    .dataframe tbody tr th:only-of-type {\n",
       "        vertical-align: middle;\n",
       "    }\n",
       "\n",
       "    .dataframe tbody tr th {\n",
       "        vertical-align: top;\n",
       "    }\n",
       "\n",
       "    .dataframe thead th {\n",
       "        text-align: right;\n",
       "    }\n",
       "</style>\n",
       "<table border=\"1\" class=\"dataframe\">\n",
       "  <thead>\n",
       "    <tr style=\"text-align: right;\">\n",
       "      <th></th>\n",
       "      <th>unixtime</th>\n",
       "      <th>total_votes</th>\n",
       "      <th>number_of_upvotes</th>\n",
       "      <th>number_of_downvotes</th>\n",
       "      <th>localtime</th>\n",
       "      <th>score</th>\n",
       "      <th>number_of_comments</th>\n",
       "      <th>score_norm</th>\n",
       "      <th>title_len</th>\n",
       "      <th>weekday</th>\n",
       "      <th>timeOfDay</th>\n",
       "      <th>subscribers</th>\n",
       "    </tr>\n",
       "  </thead>\n",
       "  <tbody>\n",
       "    <tr>\n",
       "      <th>count</th>\n",
       "      <td>1.157090e+05</td>\n",
       "      <td>115709.000000</td>\n",
       "      <td>115709.000000</td>\n",
       "      <td>115709.000000</td>\n",
       "      <td>1.157090e+05</td>\n",
       "      <td>115709.000000</td>\n",
       "      <td>115709.000000</td>\n",
       "      <td>115709.000000</td>\n",
       "      <td>115709.000000</td>\n",
       "      <td>115709.000000</td>\n",
       "      <td>115709.000000</td>\n",
       "      <td>1.157090e+05</td>\n",
       "    </tr>\n",
       "    <tr>\n",
       "      <th>mean</th>\n",
       "      <td>1.338951e+09</td>\n",
       "      <td>2152.534211</td>\n",
       "      <td>1209.516943</td>\n",
       "      <td>943.017267</td>\n",
       "      <td>1.338970e+09</td>\n",
       "      <td>266.499676</td>\n",
       "      <td>44.593835</td>\n",
       "      <td>0.636773</td>\n",
       "      <td>35.373273</td>\n",
       "      <td>2.955933</td>\n",
       "      <td>11.708960</td>\n",
       "      <td>2.017486e+06</td>\n",
       "    </tr>\n",
       "    <tr>\n",
       "      <th>std</th>\n",
       "      <td>1.333118e+07</td>\n",
       "      <td>6339.113842</td>\n",
       "      <td>3374.706731</td>\n",
       "      <td>2971.773873</td>\n",
       "      <td>1.332541e+07</td>\n",
       "      <td>505.773311</td>\n",
       "      <td>151.833657</td>\n",
       "      <td>0.150304</td>\n",
       "      <td>24.465102</td>\n",
       "      <td>2.019494</td>\n",
       "      <td>7.201332</td>\n",
       "      <td>9.506106e+05</td>\n",
       "    </tr>\n",
       "    <tr>\n",
       "      <th>min</th>\n",
       "      <td>1.217219e+09</td>\n",
       "      <td>10.000000</td>\n",
       "      <td>0.000000</td>\n",
       "      <td>0.000000</td>\n",
       "      <td>1.217244e+09</td>\n",
       "      <td>-264.000000</td>\n",
       "      <td>0.000000</td>\n",
       "      <td>0.000000</td>\n",
       "      <td>1.000000</td>\n",
       "      <td>0.000000</td>\n",
       "      <td>0.000000</td>\n",
       "      <td>1.000000e+00</td>\n",
       "    </tr>\n",
       "    <tr>\n",
       "      <th>25%</th>\n",
       "      <td>1.331826e+09</td>\n",
       "      <td>22.000000</td>\n",
       "      <td>13.000000</td>\n",
       "      <td>8.000000</td>\n",
       "      <td>1.331852e+09</td>\n",
       "      <td>5.000000</td>\n",
       "      <td>0.000000</td>\n",
       "      <td>0.548334</td>\n",
       "      <td>18.000000</td>\n",
       "      <td>1.000000</td>\n",
       "      <td>5.000000</td>\n",
       "      <td>1.520137e+06</td>\n",
       "    </tr>\n",
       "    <tr>\n",
       "      <th>50%</th>\n",
       "      <td>1.343269e+09</td>\n",
       "      <td>66.000000</td>\n",
       "      <td>45.000000</td>\n",
       "      <td>19.000000</td>\n",
       "      <td>1.343294e+09</td>\n",
       "      <td>25.000000</td>\n",
       "      <td>4.000000</td>\n",
       "      <td>0.639021</td>\n",
       "      <td>30.000000</td>\n",
       "      <td>3.000000</td>\n",
       "      <td>12.000000</td>\n",
       "      <td>2.601566e+06</td>\n",
       "    </tr>\n",
       "    <tr>\n",
       "      <th>75%</th>\n",
       "      <td>1.348555e+09</td>\n",
       "      <td>582.000000</td>\n",
       "      <td>426.000000</td>\n",
       "      <td>155.000000</td>\n",
       "      <td>1.348562e+09</td>\n",
       "      <td>253.000000</td>\n",
       "      <td>20.000000</td>\n",
       "      <td>0.744538</td>\n",
       "      <td>46.000000</td>\n",
       "      <td>5.000000</td>\n",
       "      <td>18.000000</td>\n",
       "      <td>2.665613e+06</td>\n",
       "    </tr>\n",
       "    <tr>\n",
       "      <th>max</th>\n",
       "      <td>1.359095e+09</td>\n",
       "      <td>177103.000000</td>\n",
       "      <td>90396.000000</td>\n",
       "      <td>86707.000000</td>\n",
       "      <td>1.359095e+09</td>\n",
       "      <td>20570.000000</td>\n",
       "      <td>8357.000000</td>\n",
       "      <td>1.000000</td>\n",
       "      <td>313.000000</td>\n",
       "      <td>6.000000</td>\n",
       "      <td>23.000000</td>\n",
       "      <td>2.665613e+06</td>\n",
       "    </tr>\n",
       "  </tbody>\n",
       "</table>\n",
       "</div>"
      ],
      "text/plain": [
       "           unixtime    total_votes  number_of_upvotes  number_of_downvotes  \\\n",
       "count  1.157090e+05  115709.000000      115709.000000        115709.000000   \n",
       "mean   1.338951e+09    2152.534211        1209.516943           943.017267   \n",
       "std    1.333118e+07    6339.113842        3374.706731          2971.773873   \n",
       "min    1.217219e+09      10.000000           0.000000             0.000000   \n",
       "25%    1.331826e+09      22.000000          13.000000             8.000000   \n",
       "50%    1.343269e+09      66.000000          45.000000            19.000000   \n",
       "75%    1.348555e+09     582.000000         426.000000           155.000000   \n",
       "max    1.359095e+09  177103.000000       90396.000000         86707.000000   \n",
       "\n",
       "          localtime          score  number_of_comments     score_norm  \\\n",
       "count  1.157090e+05  115709.000000       115709.000000  115709.000000   \n",
       "mean   1.338970e+09     266.499676           44.593835       0.636773   \n",
       "std    1.332541e+07     505.773311          151.833657       0.150304   \n",
       "min    1.217244e+09    -264.000000            0.000000       0.000000   \n",
       "25%    1.331852e+09       5.000000            0.000000       0.548334   \n",
       "50%    1.343294e+09      25.000000            4.000000       0.639021   \n",
       "75%    1.348562e+09     253.000000           20.000000       0.744538   \n",
       "max    1.359095e+09   20570.000000         8357.000000       1.000000   \n",
       "\n",
       "           title_len        weekday      timeOfDay   subscribers  \n",
       "count  115709.000000  115709.000000  115709.000000  1.157090e+05  \n",
       "mean       35.373273       2.955933      11.708960  2.017486e+06  \n",
       "std        24.465102       2.019494       7.201332  9.506106e+05  \n",
       "min         1.000000       0.000000       0.000000  1.000000e+00  \n",
       "25%        18.000000       1.000000       5.000000  1.520137e+06  \n",
       "50%        30.000000       3.000000      12.000000  2.601566e+06  \n",
       "75%        46.000000       5.000000      18.000000  2.665613e+06  \n",
       "max       313.000000       6.000000      23.000000  2.665613e+06  "
      ]
     },
     "execution_count": 14,
     "metadata": {},
     "output_type": "execute_result"
    }
   ],
   "source": [
    "df_.describe()"
   ]
  },
  {
   "cell_type": "code",
   "execution_count": 15,
   "metadata": {},
   "outputs": [
    {
     "data": {
      "text/plain": [
       "{'#image_id': '0',\n",
       " 'unixtime': 1333172439,\n",
       " 'rawtime': '2012-03-31T12:40:39.590113-07:00',\n",
       " 'title': \"And here's a downvote.\",\n",
       " 'total_votes': 63470,\n",
       " 'reddit_id': 'rmqjs',\n",
       " 'number_of_upvotes': 32657,\n",
       " 'subreddit': 'funny',\n",
       " 'number_of_downvotes': 30813,\n",
       " 'localtime': 1333197639,\n",
       " 'score': 1844,\n",
       " 'number_of_comments': 622,\n",
       " 'username': 'Animates_Everything',\n",
       " 'score_norm': 0.5145265479754214,\n",
       " 'title_len': 22,\n",
       " 'weekday': 4,\n",
       " 'timeOfDay': 22,\n",
       " 'subscribers': 2665613}"
      ]
     },
     "execution_count": 15,
     "metadata": {},
     "output_type": "execute_result"
    }
   ],
   "source": [
    "data[0]"
   ]
  },
  {
   "cell_type": "code",
   "execution_count": 15,
   "metadata": {},
   "outputs": [
    {
     "name": "stdout",
     "output_type": "stream",
     "text": [
      "One Hot Encoding for day of week (after removing first dimension)\n",
      "[[0. 0. 0. 0. 0. 0.]\n",
      " [1. 0. 0. 0. 0. 0.]\n",
      " [0. 1. 0. 0. 0. 0.]\n",
      " [0. 0. 1. 0. 0. 0.]\n",
      " [0. 0. 0. 1. 0. 0.]\n",
      " [0. 0. 0. 0. 1. 0.]\n",
      " [0. 0. 0. 0. 0. 1.]]\n",
      "\n",
      "One Hot Encoding for time of day (after removing first dimension)\n",
      "[[0. 0. 0. 0. 0. 0. 0. 0. 0. 0. 0. 0. 0. 0. 0. 0. 0. 0. 0. 0. 0. 0. 0.]\n",
      " [1. 0. 0. 0. 0. 0. 0. 0. 0. 0. 0. 0. 0. 0. 0. 0. 0. 0. 0. 0. 0. 0. 0.]\n",
      " [0. 1. 0. 0. 0. 0. 0. 0. 0. 0. 0. 0. 0. 0. 0. 0. 0. 0. 0. 0. 0. 0. 0.]\n",
      " [0. 0. 1. 0. 0. 0. 0. 0. 0. 0. 0. 0. 0. 0. 0. 0. 0. 0. 0. 0. 0. 0. 0.]\n",
      " [0. 0. 0. 1. 0. 0. 0. 0. 0. 0. 0. 0. 0. 0. 0. 0. 0. 0. 0. 0. 0. 0. 0.]\n",
      " [0. 0. 0. 0. 1. 0. 0. 0. 0. 0. 0. 0. 0. 0. 0. 0. 0. 0. 0. 0. 0. 0. 0.]\n",
      " [0. 0. 0. 0. 0. 1. 0. 0. 0. 0. 0. 0. 0. 0. 0. 0. 0. 0. 0. 0. 0. 0. 0.]\n",
      " [0. 0. 0. 0. 0. 0. 1. 0. 0. 0. 0. 0. 0. 0. 0. 0. 0. 0. 0. 0. 0. 0. 0.]\n",
      " [0. 0. 0. 0. 0. 0. 0. 1. 0. 0. 0. 0. 0. 0. 0. 0. 0. 0. 0. 0. 0. 0. 0.]\n",
      " [0. 0. 0. 0. 0. 0. 0. 0. 1. 0. 0. 0. 0. 0. 0. 0. 0. 0. 0. 0. 0. 0. 0.]\n",
      " [0. 0. 0. 0. 0. 0. 0. 0. 0. 1. 0. 0. 0. 0. 0. 0. 0. 0. 0. 0. 0. 0. 0.]\n",
      " [0. 0. 0. 0. 0. 0. 0. 0. 0. 0. 1. 0. 0. 0. 0. 0. 0. 0. 0. 0. 0. 0. 0.]\n",
      " [0. 0. 0. 0. 0. 0. 0. 0. 0. 0. 0. 1. 0. 0. 0. 0. 0. 0. 0. 0. 0. 0. 0.]\n",
      " [0. 0. 0. 0. 0. 0. 0. 0. 0. 0. 0. 0. 1. 0. 0. 0. 0. 0. 0. 0. 0. 0. 0.]\n",
      " [0. 0. 0. 0. 0. 0. 0. 0. 0. 0. 0. 0. 0. 1. 0. 0. 0. 0. 0. 0. 0. 0. 0.]\n",
      " [0. 0. 0. 0. 0. 0. 0. 0. 0. 0. 0. 0. 0. 0. 1. 0. 0. 0. 0. 0. 0. 0. 0.]\n",
      " [0. 0. 0. 0. 0. 0. 0. 0. 0. 0. 0. 0. 0. 0. 0. 1. 0. 0. 0. 0. 0. 0. 0.]\n",
      " [0. 0. 0. 0. 0. 0. 0. 0. 0. 0. 0. 0. 0. 0. 0. 0. 1. 0. 0. 0. 0. 0. 0.]\n",
      " [0. 0. 0. 0. 0. 0. 0. 0. 0. 0. 0. 0. 0. 0. 0. 0. 0. 1. 0. 0. 0. 0. 0.]\n",
      " [0. 0. 0. 0. 0. 0. 0. 0. 0. 0. 0. 0. 0. 0. 0. 0. 0. 0. 1. 0. 0. 0. 0.]\n",
      " [0. 0. 0. 0. 0. 0. 0. 0. 0. 0. 0. 0. 0. 0. 0. 0. 0. 0. 0. 1. 0. 0. 0.]\n",
      " [0. 0. 0. 0. 0. 0. 0. 0. 0. 0. 0. 0. 0. 0. 0. 0. 0. 0. 0. 0. 1. 0. 0.]\n",
      " [0. 0. 0. 0. 0. 0. 0. 0. 0. 0. 0. 0. 0. 0. 0. 0. 0. 0. 0. 0. 0. 1. 0.]\n",
      " [0. 0. 0. 0. 0. 0. 0. 0. 0. 0. 0. 0. 0. 0. 0. 0. 0. 0. 0. 0. 0. 0. 1.]]\n"
     ]
    }
   ],
   "source": [
    "# Creating 1-Hot Encoder object and removing redundant first dimension\n",
    "\n",
    "# Hot-encoding the day of week\n",
    "\n",
    "wd=set()\n",
    "td=set()\n",
    "\n",
    "for d in data:\n",
    "    wd.add(d['weekday'])\n",
    "    td.add(d['timeOfDay'])\n",
    "\n",
    "y=[[t] for t in wd]\n",
    "z=[[t] for t in td]\n",
    "    \n",
    "enc1 = OneHotEncoder(drop='first')\n",
    "print(\"One Hot Encoding for day of week (after removing first dimension)\")\n",
    "print(enc1.fit(y).transform(y).toarray())\n",
    "\n",
    "# Hot-encoding the time of day\n",
    "enc2 = OneHotEncoder(drop='first')\n",
    "print(\"\\nOne Hot Encoding for time of day (after removing first dimension)\")\n",
    "print(enc2.fit(z).transform(z).toarray())"
   ]
  },
  {
   "cell_type": "markdown",
   "metadata": {},
   "source": [
    "## Data Exploration"
   ]
  },
  {
   "cell_type": "code",
   "execution_count": 17,
   "metadata": {},
   "outputs": [
    {
     "data": {
      "image/png": "[encoded data removed]",
      "text/plain": [
       "<Figure size 1080x360 with 1 Axes>"
      ]
     },
     "metadata": {
      "needs_background": "light"
     },
     "output_type": "display_data"
    }
   ],
   "source": [
    "# Normalized Score vs Time\n",
    "\n",
    "Y=[]\n",
    "X=[]\n",
    "\n",
    "for d in data:\n",
    "    # Ignoring outliers for comment count\n",
    "    if d['number_of_comments']<1000:\n",
    "        Y.append(d['score_norm'])\n",
    "        X.append(d['number_of_comments'])\n",
    "\n",
    "plt.figure(figsize=(15,5))\n",
    "plt.scatter(X[::100],Y[::100])\n",
    "plt.ylabel(\"Normalized Score\")\n",
    "plt.xlabel(\"Comments\")\n",
    "plt.title(\"Normalized Score vs Comments\")\n",
    "plt.show()"
   ]
  },
  {
   "cell_type": "code",
   "execution_count": 18,
   "metadata": {},
   "outputs": [
    {
     "data": {
      "text/plain": [
       "Text(0.5, 1.0, 'Average Normalized Score vs Comments')"
      ]
     },
     "execution_count": 18,
     "metadata": {},
     "output_type": "execute_result"
    },
    {
     "data": {
      "image/png": "[encoded data removed]",
      "text/plain": [
       "<Figure size 1080x1080 with 2 Axes>"
      ]
     },
     "metadata": {
      "needs_background": "light"
     },
     "output_type": "display_data"
    }
   ],
   "source": [
    "# Av Normalzied Score vs Time of the day\n",
    "H={}\n",
    "for d in data:\n",
    "    if d['number_of_comments']<1000:\n",
    "        \n",
    "        #Seperating commments into bins of 50\n",
    "        comments=(d['number_of_comments']//50)*50\n",
    "        if comments not in H:\n",
    "            H[comments]=[]\n",
    "        H[comments].append(d['score_norm'])\n",
    "\n",
    "D={}\n",
    "for m in H:\n",
    "    D[m]=sum(H[m])/len(H[m])\n",
    "    \n",
    "H={k: v for k, v in sorted(H.items(), key=lambda item: item[0])}\n",
    "D={k: v for k, v in sorted(D.items(), key=lambda item: item[0])}\n",
    "\n",
    "fig, ax = plt.subplots(2,1,figsize=(15,15))\n",
    "fig.tight_layout(pad=5.0)\n",
    "ax[0].boxplot(H.values(),showfliers=False)\n",
    "ax[0].set_xticklabels(H.keys())\n",
    "ax[0].set_title(\"Normalized Score vs Comments\")   \n",
    "ax[0].set_ylabel(\"Normalized Score\")\n",
    "ax[0].set_xlabel(\"Comments(Approx)\")\n",
    "\n",
    "ax[1].scatter(D.keys(),D.values())\n",
    "ax[1].set_ylabel(\"Average Normalized Score\")\n",
    "ax[1].set_xlabel(\"Comments(Approx)\")\n",
    "ax[1].set_title(\"Average Normalized Score vs Comments\")"
   ]
  },
  {
   "cell_type": "code",
   "execution_count": 19,
   "metadata": {},
   "outputs": [
    {
     "data": {
      "image/png": "[encoded data removed]",
      "text/plain": [
       "<Figure size 720x360 with 1 Axes>"
      ]
     },
     "metadata": {
      "needs_background": "light"
     },
     "output_type": "display_data"
    },
    {
     "name": "stdout",
     "output_type": "stream",
     "text": [
      "[[-0.16429828]] [0.7780567]\n"
     ]
    }
   ],
   "source": [
    "# Normalzied Score vs Time\n",
    "\n",
    "Y=[]\n",
    "X=[]\n",
    "max_time = max(d['unixtime'] for d in data)\n",
    "min_time = min(d['unixtime'] for d in data)\n",
    "\n",
    "for d in data:\n",
    "     # Ignoring outliers for time\n",
    "    if d['unixtime']>1.3*1e9:\n",
    "        Y.append(d['score_norm'])\n",
    "        X.append((d['unixtime'] - min_time)/(max_time - min_time))\n",
    "\n",
    "plt.figure(figsize=(10,5))\n",
    "plt.scatter(X,Y)\n",
    "plt.ylabel(\"Normalized Score\")\n",
    "plt.xlabel(\"Unix Time\")\n",
    "plt.title(\"Normalized Score vs Unix Time\")\n",
    "plt.show()\n",
    "\n",
    "lr = LinearRegression()\n",
    "lr.fit([[x] for x in X], [[y] for y in Y])\n",
    "print(lr.coef_, lr.intercept_)"
   ]
  },
  {
   "cell_type": "code",
   "execution_count": 20,
   "metadata": {},
   "outputs": [
    {
     "name": "stderr",
     "output_type": "stream",
     "text": [
      "<ipython-input-20-69e8a534fee4>:31: UserWarning: FixedFormatter should only be used together with FixedLocator\n",
      "  ax[1].set_xticklabels(days_)\n"
     ]
    },
    {
     "data": {
      "text/plain": [
       "[Text(-1.0, 0, ' '),\n",
       " Text(0.0, 0, 'Mon'),\n",
       " Text(1.0, 0, 'Tue'),\n",
       " Text(2.0, 0, 'Wed'),\n",
       " Text(3.0, 0, 'Thu'),\n",
       " Text(4.0, 0, 'Fri'),\n",
       " Text(5.0, 0, 'Sat'),\n",
       " Text(6.0, 0, 'Sun'),\n",
       " Text(7.0, 0, '')]"
      ]
     },
     "execution_count": 20,
     "metadata": {},
     "output_type": "execute_result"
    },
    {
     "data": {
      "image/png": "[encoded data removed]",
      "text/plain": [
       "<Figure size 720x720 with 2 Axes>"
      ]
     },
     "metadata": {
      "needs_background": "light"
     },
     "output_type": "display_data"
    }
   ],
   "source": [
    "# Average Normalized Score vs WeekDay\n",
    "days=[\"Mon\", \"Tue\", \"Wed\", \"Thu\", \"Fri\", \"Sat\", \"Sun\"]\n",
    "\n",
    "M={}\n",
    "for d in data:\n",
    "    if d['weekday'] not in M:\n",
    "        M[d['weekday']]=[]\n",
    "    M[d['weekday']].append(d['score_norm'])\n",
    "       \n",
    "D={}\n",
    "for m in M:\n",
    "    D[m]=sum(M[m])/len(M[m])\n",
    "    \n",
    "M={k: v for k, v in sorted(M.items(), key=lambda item: item[0])}\n",
    "D={k: v for k, v in sorted(D.items(), key=lambda item: item[0])}\n",
    "\n",
    "fig, ax = plt.subplots(2,1,figsize=(10,10))\n",
    "fig.tight_layout(pad=5.0)\n",
    "ax[0].boxplot(M.values(),showfliers=False)\n",
    "ax[0].set_xticklabels(days)\n",
    "ax[0].set_ylabel(\"Normalized Score\")\n",
    "ax[0].set_xlabel(\"Day of Week\")   \n",
    "ax[0].set_title('Normalized Score vs Day of Week')    \n",
    " \n",
    "days_=days   \n",
    "days_.insert(0,\" \")    \n",
    "ax[1].scatter(D.keys(),D.values())\n",
    "ax[1].set_ylabel(\"Average Normalized Score\")\n",
    "ax[1].set_xlabel(\"Day of Week\")\n",
    "ax[1].set_title('Average Normalized Score vs Day of Week')\n",
    "ax[1].set_xticklabels(days_)"
   ]
  },
  {
   "cell_type": "code",
   "execution_count": 21,
   "metadata": {},
   "outputs": [
    {
     "data": {
      "text/plain": [
       "dict_keys([0, 1, 2, 3, 4, 5, 6])"
      ]
     },
     "execution_count": 21,
     "metadata": {},
     "output_type": "execute_result"
    }
   ],
   "source": [
    "D.keys()"
   ]
  },
  {
   "cell_type": "code",
   "execution_count": 22,
   "metadata": {},
   "outputs": [
    {
     "data": {
      "text/plain": [
       "Text(0.5, 1.0, 'Average Normalized Score vs Time of Day')"
      ]
     },
     "execution_count": 22,
     "metadata": {},
     "output_type": "execute_result"
    },
    {
     "data": {
      "image/png": "[encoded data removed]",
      "text/plain": [
       "<Figure size 720x720 with 2 Axes>"
      ]
     },
     "metadata": {
      "needs_background": "light"
     },
     "output_type": "display_data"
    }
   ],
   "source": [
    "# Av Normalzied Score vs Time of the day\n",
    "H={}\n",
    "for d in data:\n",
    "    if d['timeOfDay'] not in H:\n",
    "        H[d['timeOfDay']]=[]\n",
    "    H[d['timeOfDay']].append(d['score_norm'])\n",
    "\n",
    "D={}\n",
    "for m in H:\n",
    "    D[m]=sum(H[m])/len(H[m])\n",
    "    \n",
    "H={k: v for k, v in sorted(H.items(), key=lambda item: item[0])}\n",
    "D={k: v for k, v in sorted(D.items(), key=lambda item: item[0])}\n",
    "\n",
    "fig, ax = plt.subplots(2,1,figsize=(10,10))\n",
    "fig.tight_layout(pad=5.0)\n",
    "ax[0].boxplot(H.values(),showfliers=False)\n",
    "ax[0].set_xticklabels(H.keys())\n",
    "ax[0].set_ylabel(\"Normalized Score\")\n",
    "ax[0].set_xlabel(\"Time of Day(24 hr format)\")\n",
    "ax[0].set_title(\"Normalized Score vs Time of Day\")\n",
    "\n",
    "ax[1].scatter(D.keys(),D.values())   \n",
    "ax[1].set_ylabel(\"Average Normalized Score\")\n",
    "ax[1].set_xlabel(\"Time of Day(24 hr format)\")\n",
    "ax[1].set_title(\"Average Normalized Score vs Time of Day\")"
   ]
  },
  {
   "cell_type": "code",
   "execution_count": 23,
   "metadata": {},
   "outputs": [
    {
     "data": {
      "text/plain": [
       "Text(0.5, 1.0, 'Average Normalized Score vs Title Length')"
      ]
     },
     "execution_count": 23,
     "metadata": {},
     "output_type": "execute_result"
    },
    {
     "data": {
      "image/png": "[encoded data removed]",
      "text/plain": [
       "<Figure size 1080x1080 with 2 Axes>"
      ]
     },
     "metadata": {
      "needs_background": "light"
     },
     "output_type": "display_data"
    }
   ],
   "source": [
    "# Av Normalzied Score vs Time of the day\n",
    "H={}\n",
    "for d in data:\n",
    "    \n",
    "    # Dividing title length into bins of 25\n",
    "    len_=(d['title_len']//25)*25\n",
    "    if len_ not in H:\n",
    "        H[len_]=[]\n",
    "    H[len_].append(d['score_norm'])\n",
    "\n",
    "D={}\n",
    "for m in H:\n",
    "    D[m]=sum(H[m])/len(H[m])\n",
    "    \n",
    "H={k: v for k, v in sorted(H.items(), key=lambda item: item[0])}\n",
    "D={k: v for k, v in sorted(D.items(), key=lambda item: item[0])}\n",
    "\n",
    "fig, ax = plt.subplots(2,1,figsize=(15,15))\n",
    "fig.tight_layout(pad=5.0)\n",
    "ax[0].boxplot(H.values(),showfliers=False)\n",
    "ax[0].set_xticklabels(H.keys())   \n",
    "ax[0].set_ylabel(\"Normalized Score\")\n",
    "ax[0].set_xlabel(\"Title Length(approx)\")\n",
    "ax[0].set_title(\"Normalized Score vs Title Length\")   \n",
    "    \n",
    "ax[1].scatter(D.keys(),D.values())    \n",
    "ax[1].set_ylabel(\"Average Normalized Score\")\n",
    "ax[1].set_xlabel(\"Title Length(approx)\")\n",
    "ax[1].set_title(\"Average Normalized Score vs Title Length\")  "
   ]
  },
  {
   "cell_type": "code",
   "execution_count": 24,
   "metadata": {},
   "outputs": [
    {
     "data": {
      "image/png": "[encoded data removed]",
      "text/plain": [
       "<Figure size 1080x360 with 1 Axes>"
      ]
     },
     "metadata": {
      "needs_background": "light"
     },
     "output_type": "display_data"
    }
   ],
   "source": [
    "# Normalzied Score vs Total votes\n",
    "\n",
    "Y=[]\n",
    "X=[]\n",
    "\n",
    "for d in data:\n",
    "    Y.append(d['score_norm'])\n",
    "    X.append(d['total_votes'])\n",
    "\n",
    "plt.figure(figsize=(15,5))\n",
    "plt.scatter(X,Y)\n",
    "plt.ylabel(\"Normalized Score\")\n",
    "plt.xlabel(\"Total Votes\")\n",
    "plt.title(\"Normalized Score vs Total Votes\")\n",
    "plt.show()"
   ]
  },
  {
   "cell_type": "code",
   "execution_count": 25,
   "metadata": {},
   "outputs": [
    {
     "data": {
      "text/plain": [
       "Text(0.5, 1.0, 'Average Normalized Score vs Total Votes')"
      ]
     },
     "execution_count": 25,
     "metadata": {},
     "output_type": "execute_result"
    },
    {
     "data": {
      "image/png": "[encoded data removed]",
      "text/plain": [
       "<Figure size 1080x1080 with 2 Axes>"
      ]
     },
     "metadata": {
      "needs_background": "light"
     },
     "output_type": "display_data"
    }
   ],
   "source": [
    "# Av Normalzied Score vs Total Votes\n",
    "H={}\n",
    "for d in data:\n",
    "\n",
    "    #Seperating total votes into bins of 10000\n",
    "    votes=(d['total_votes']//10000)*10000\n",
    "    if votes not in H:\n",
    "        H[votes]=[]\n",
    "    H[votes].append(d['score_norm'])\n",
    "\n",
    "D={}\n",
    "for m in H:\n",
    "    D[m]=sum(H[m])/len(H[m])\n",
    "    \n",
    "H={k: v for k, v in sorted(H.items(), key=lambda item: item[0])}\n",
    "D={k: v for k, v in sorted(D.items(), key=lambda item: item[0])}\n",
    "\n",
    "fig, ax = plt.subplots(2,1,figsize=(15,15))\n",
    "fig.tight_layout(pad=5.0)\n",
    "ax[0].boxplot(H.values(),showfliers=False)\n",
    "ax[0].set_xticklabels(H.keys(), rotation='vertical')\n",
    "ax[0].set_ylabel(\"Normalized Score\")\n",
    "ax[0].set_xlabel(\"Total Votes(Approx)\")   \n",
    "ax[0].set_title(\"Normalized Score vs Total Votes\")   \n",
    "\n",
    "ax[1].scatter(D.keys(),D.values())\n",
    "ax[1].set_ylabel(\"Average Normalized Score\")\n",
    "ax[1].set_xlabel(\"Total Votes(Approx)\")\n",
    "ax[1].set_title(\"Average Normalized Score vs Total Votes\") "
   ]
  },
  {
   "cell_type": "code",
   "execution_count": 26,
   "metadata": {},
   "outputs": [
    {
     "data": {
      "image/png": "[encoded data removed]",
      "text/plain": [
       "<Figure size 1080x360 with 1 Axes>"
      ]
     },
     "metadata": {
      "needs_background": "light"
     },
     "output_type": "display_data"
    }
   ],
   "source": [
    "# Upvotes vs Downvotes\n",
    "\n",
    "Y=[]\n",
    "X=[]\n",
    "\n",
    "for d in data:\n",
    "    Y.append(d['number_of_upvotes'])\n",
    "    X.append(d['number_of_downvotes'])\n",
    "\n",
    "plt.figure(figsize=(15,5))\n",
    "plt.scatter(X,Y)\n",
    "plt.ylabel(\"Number of Upvotes\")\n",
    "plt.xlabel(\"Number of Downvotes\")\n",
    "plt.title(\"Upvotes vs Downvotes\")\n",
    "plt.show()"
   ]
  },
  {
   "cell_type": "code",
   "execution_count": 27,
   "metadata": {},
   "outputs": [
    {
     "data": {
      "text/plain": [
       "Text(0.5, 1.0, 'Average Normalized Score vs Subscriber Count')"
      ]
     },
     "execution_count": 27,
     "metadata": {},
     "output_type": "execute_result"
    },
    {
     "data": {
      "image/png": "[encoded data removed]",
      "text/plain": [
       "<Figure size 720x720 with 2 Axes>"
      ]
     },
     "metadata": {
      "needs_background": "light"
     },
     "output_type": "display_data"
    }
   ],
   "source": [
    "# Av Normalzied Score vs Subscribers\n",
    "H={}\n",
    "for d in data:\n",
    "    \n",
    "    sub=d['subreddit']\n",
    "    subscribe=avSub\n",
    "    if sub in sub_count:\n",
    "        subscribe = sub_count[sub]\n",
    "    \n",
    "    #Seperating subscribers into bins of 100000\n",
    "        \n",
    "    subscribe=(subscribe//10000)*10000\n",
    "    \n",
    "    if subscribe not in H:\n",
    "        H[subscribe]=[]\n",
    "    H[subscribe].append(d['score_norm'])\n",
    "\n",
    "D={}\n",
    "for m in H:\n",
    "    D[m]=sum(H[m])/len(H[m])\n",
    "\n",
    "max_subscribers = max(sub_count.values())\n",
    "    \n",
    "H={k: v for k, v in sorted(H.items(), key=lambda item: item[0])}\n",
    "D={k/max_subscribers: v for k, v in sorted(D.items(), key=lambda item: item[0])}\n",
    "\n",
    "fig, ax = plt.subplots(2,1,figsize=(10,10))\n",
    "fig.tight_layout(pad=5.0)\n",
    "lab=np.array(list(H.keys()))\n",
    "lab=lab/100000\n",
    "ax[0].boxplot(H.values(),showfliers=False)\n",
    "ax[0].set_xticklabels(lab, rotation='vertical')\n",
    "ax[0].set_ylabel(\"Normalized Score\")\n",
    "ax[0].set_xlabel(\"Subscriber Count(Approx) (*1e5)\")\n",
    "ax[0].set_title(\"Normalized Score vs Subscriber Count\")\n",
    "\n",
    "ax[1].scatter(D.keys(),D.values())\n",
    "ax[1].set_ylabel(\"Average Normalized Score\")\n",
    "ax[1].set_xlabel(\"Subscriber Count(Approx)\")\n",
    "ax[1].set_title(\"Average Normalized Score vs Subscriber Count\")"
   ]
  },
  {
   "cell_type": "markdown",
   "metadata": {},
   "source": [
    "## Model Training"
   ]
  },
  {
   "cell_type": "code",
   "execution_count": 16,
   "metadata": {},
   "outputs": [],
   "source": [
    "def MSE(y,ypred):\n",
    "    y=np.array(y)\n",
    "    ypred=np.array(ypred)\n",
    "    return round(np.sum(np.square(y-ypred))/len(y-ypred),5)\n",
    "\n",
    "def MAE(y, ypred):\n",
    "    y=np.array(y)\n",
    "    ypred=np.array(ypred)\n",
    "    return round(np.sum(np.abs(y-ypred))/len(y-ypred),5)    "
   ]
  },
  {
   "cell_type": "code",
   "execution_count": 17,
   "metadata": {},
   "outputs": [
    {
     "data": {
      "text/plain": [
       "[{'#image_id': '0',\n",
       "  'unixtime': 1333172439,\n",
       "  'rawtime': '2012-03-31T12:40:39.590113-07:00',\n",
       "  'title': \"And here's a downvote.\",\n",
       "  'total_votes': 63470,\n",
       "  'reddit_id': 'rmqjs',\n",
       "  'number_of_upvotes': 32657,\n",
       "  'subreddit': 'funny',\n",
       "  'number_of_downvotes': 30813,\n",
       "  'localtime': 1333197639,\n",
       "  'score': 1844,\n",
       "  'number_of_comments': 622,\n",
       "  'username': 'Animates_Everything',\n",
       "  'score_norm': 0.5145265479754214,\n",
       "  'title_len': 22,\n",
       "  'weekday': 4,\n",
       "  'timeOfDay': 22,\n",
       "  'subscribers': 2665613},\n",
       " {'#image_id': '0',\n",
       "  'unixtime': 1333178161,\n",
       "  'rawtime': '2012-03-31T14:16:01.093638-07:00',\n",
       "  'title': 'Expectation',\n",
       "  'total_votes': 35,\n",
       "  'reddit_id': 'rmun4',\n",
       "  'number_of_upvotes': 29,\n",
       "  'subreddit': 'GifSound',\n",
       "  'number_of_downvotes': 6,\n",
       "  'localtime': 1333203361,\n",
       "  'score': 23,\n",
       "  'number_of_comments': 3,\n",
       "  'username': 'Gangsta_Raper',\n",
       "  'score_norm': 0.8285714285714286,\n",
       "  'title_len': 11,\n",
       "  'weekday': 5,\n",
       "  'timeOfDay': 0,\n",
       "  'subscribers': 20648}]"
      ]
     },
     "execution_count": 17,
     "metadata": {},
     "output_type": "execute_result"
    }
   ],
   "source": [
    "data[0:2]"
   ]
  },
  {
   "cell_type": "code",
   "execution_count": 18,
   "metadata": {},
   "outputs": [],
   "source": [
    "L=len(data)\n",
    "data.sort(key=lambda x: x['unixtime'])"
   ]
  },
  {
   "cell_type": "code",
   "execution_count": 19,
   "metadata": {},
   "outputs": [],
   "source": [
    "train=data[:int(0.8*L)]\n",
    "val=data[int(0.8*L):int(0.9*L)]\n",
    "test=data[int(0.9*L):]"
   ]
  },
  {
   "cell_type": "code",
   "execution_count": 20,
   "metadata": {},
   "outputs": [],
   "source": [
    "count_s=defaultdict()\n",
    "count_u=defaultdict()\n",
    "count_i=defaultdict()\n",
    "max_u=0\n",
    "max_i=0\n",
    "max_s=0\n",
    "\n",
    "for d in data:\n",
    "    sub=d['subreddit']\n",
    "    user=d['username']\n",
    "    image=d['#image_id']    \n",
    "    \n",
    "    if sub not in count_s:\n",
    "        count_s[sub]=0\n",
    "    \n",
    "    if user not in count_u:\n",
    "        count_u[user]=0\n",
    "        \n",
    "    if image not in count_i:\n",
    "        count_i[image]=0\n",
    "    \n",
    "    count_s[sub]+=1\n",
    "    count_i[image]+=1\n",
    "    count_u[user]+=1\n",
    "\n",
    "    max_u=max(max_u,count_u[user])\n",
    "    max_i=max(max_i,count_i[image])\n",
    "    max_s=max(max_s,count_s[sub])"
   ]
  },
  {
   "cell_type": "code",
   "execution_count": 21,
   "metadata": {},
   "outputs": [],
   "source": [
    "avScore=0\n",
    "for d  in train:\n",
    "    avScore+=d['score_norm']\n",
    "    \n",
    "avScore/=len(train)    \n",
    "\n",
    "scorePerImageTime=defaultdict(list)\n",
    "scorePerUserTime=defaultdict(list)\n",
    "\n",
    "prev_im=defaultdict(list)\n",
    "prev_us=defaultdict(list)\n",
    "\n",
    "for d in train:\n",
    "    image=d['#image_id']\n",
    "    user=d['username']\n",
    "    time=d['unixtime']\n",
    "    \n",
    "    if len(prev_im[image])>0:\n",
    "        scorePerImageTime[(image,time)]=np.mean(prev_im[image])\n",
    "        \n",
    "    prev_im[image].append(d['score_norm'])\n",
    "    \n",
    "    if len(prev_us[user])>0:\n",
    "        scorePerUserTime[(user,time)]=np.mean(prev_us[user])\n",
    "        \n",
    "    prev_us[user].append(d['score_norm'])   "
   ]
  },
  {
   "cell_type": "code",
   "execution_count": 22,
   "metadata": {},
   "outputs": [
    {
     "data": {
      "text/plain": [
       "0.6468872295806947"
      ]
     },
     "execution_count": 22,
     "metadata": {},
     "output_type": "execute_result"
    }
   ],
   "source": [
    "avScore"
   ]
  },
  {
   "cell_type": "markdown",
   "metadata": {},
   "source": [
    "### Baseline 1: Provide average normalized score of whole train data as predictions "
   ]
  },
  {
   "cell_type": "code",
   "execution_count": 24,
   "metadata": {},
   "outputs": [
    {
     "name": "stdout",
     "output_type": "stream",
     "text": [
      "Train MSE:  0.02015\n",
      "Train MAE:  0.11184\n"
     ]
    }
   ],
   "source": [
    "labels_train=[]\n",
    "for d in train:\n",
    "    labels_train.append(d['score_norm'])\n",
    "    \n",
    "preds_train=[avScore]*len(train)\n",
    "print(\"Train MSE: \", MSE(labels_train, preds_train))\n",
    "print(\"Train MAE: \", MAE(labels_train, preds_train))"
   ]
  },
  {
   "cell_type": "code",
   "execution_count": 25,
   "metadata": {},
   "outputs": [
    {
     "name": "stdout",
     "output_type": "stream",
     "text": [
      "Validation MSE:  0.0333\n",
      "Validation MAE:  0.14724\n"
     ]
    }
   ],
   "source": [
    "labels_val=[]\n",
    "for d in val:\n",
    "    labels_val.append(d['score_norm'])\n",
    "    \n",
    "preds_val=[avScore]*len(val)\n",
    "print(\"Validation MSE: \", MSE(labels_val, preds_val))\n",
    "print(\"Validation MAE: \", MAE(labels_val, preds_val))"
   ]
  },
  {
   "cell_type": "code",
   "execution_count": 26,
   "metadata": {},
   "outputs": [
    {
     "name": "stdout",
     "output_type": "stream",
     "text": [
      "Test MSE:  0.03244\n",
      "Test MAE:  0.14346\n"
     ]
    }
   ],
   "source": [
    "labels_test=[]\n",
    "for d in test:\n",
    "    labels_test.append(d['score_norm'])\n",
    "    \n",
    "preds_test=[avScore]*len(test)\n",
    "print(\"Test MSE: \", MSE(labels_test, preds_test))\n",
    "print(\"Test MAE: \", MAE(labels_test, preds_test))"
   ]
  },
  {
   "cell_type": "markdown",
   "metadata": {},
   "source": [
    "### Baseline 2: Provide average normalized score for query image and for cold start, of whole train data"
   ]
  },
  {
   "cell_type": "code",
   "execution_count": 27,
   "metadata": {},
   "outputs": [
    {
     "name": "stdout",
     "output_type": "stream",
     "text": [
      "Train MSE:  0.01963\n",
      "Train MAE:  0.10894\n"
     ]
    }
   ],
   "source": [
    "labels_train=[]\n",
    "preds_train=[]\n",
    "for d in train:\n",
    "    image=d['#image_id']\n",
    "    time=d['unixtime']\n",
    "    pred=avScore\n",
    "    if (image,time) in scorePerImageTime:\n",
    "        pred=scorePerImageTime[(image,time)]\n",
    "    \n",
    "    preds_train.append(pred)\n",
    "    labels_train.append(d['score_norm'])\n",
    "\n",
    "print(\"Train MSE: \", MSE(labels_train, preds_train))\n",
    "print(\"Train MAE: \", MAE(labels_train, preds_train))"
   ]
  },
  {
   "cell_type": "code",
   "execution_count": 28,
   "metadata": {},
   "outputs": [
    {
     "name": "stdout",
     "output_type": "stream",
     "text": [
      "Validation MSE:  0.03437\n",
      "Validation MAE:  0.14642\n"
     ]
    }
   ],
   "source": [
    "labels_val=[]\n",
    "preds_val=[]\n",
    "for d in val:\n",
    "    image=d['#image_id']\n",
    "    L=prev_im[image]\n",
    "    \n",
    "    labels_val.append(d['score_norm'])\n",
    "    pred=avScore\n",
    "    if len(L)>0:\n",
    "        pred=np.mean(L)\n",
    "    \n",
    "    preds_val.append(pred)\n",
    "\n",
    "print(\"Validation MSE: \", MSE(labels_val, preds_val))\n",
    "print(\"Validation MAE: \", MAE(labels_val, preds_val))"
   ]
  },
  {
   "cell_type": "code",
   "execution_count": 29,
   "metadata": {},
   "outputs": [
    {
     "name": "stdout",
     "output_type": "stream",
     "text": [
      "Test MSE:  0.03308\n",
      "Test MAE:  0.1427\n"
     ]
    }
   ],
   "source": [
    "labels_test=[]\n",
    "preds_test=[]\n",
    "for d in test:\n",
    "    image=d['#image_id']\n",
    "    L=prev_im[image]\n",
    "    \n",
    "    labels_test.append(d['score_norm'])\n",
    "    pred=avScore\n",
    "    if len(L)>0:\n",
    "        pred=np.mean(L)\n",
    "    \n",
    "    preds_test.append(pred)\n",
    "\n",
    "print(\"Test MSE: \", MSE(labels_test, preds_test))\n",
    "print(\"Test MAE: \", MAE(labels_test, preds_test))"
   ]
  },
  {
   "cell_type": "markdown",
   "metadata": {},
   "source": [
    "### Baseline 3: Provide average normalized score for query user and for cold start, of whole train data"
   ]
  },
  {
   "cell_type": "code",
   "execution_count": 30,
   "metadata": {},
   "outputs": [
    {
     "name": "stdout",
     "output_type": "stream",
     "text": [
      "Train MSE: 0.01994\n",
      "Train MAE:  0.10938\n"
     ]
    }
   ],
   "source": [
    "labels_train=[]\n",
    "preds_train=[]\n",
    "for d in train:\n",
    "    user=d['username']\n",
    "    time=d['unixtime']\n",
    "    pred=avScore\n",
    "    \n",
    "    if (user,time) in scorePerUserTime:\n",
    "        pred=scorePerUserTime[(user,time)]\n",
    "        \n",
    "    preds_train.append(pred)\n",
    "    labels_train.append(d['score_norm'])\n",
    "    \n",
    "print(\"Train MSE:\", MSE(labels_train, preds_train))\n",
    "print(\"Train MAE: \", MAE(labels_train, preds_train))"
   ]
  },
  {
   "cell_type": "code",
   "execution_count": 31,
   "metadata": {},
   "outputs": [
    {
     "name": "stdout",
     "output_type": "stream",
     "text": [
      "Validation MSE:  0.03291\n",
      "Validation MAE:  0.14439\n"
     ]
    }
   ],
   "source": [
    "labels_val=[]\n",
    "preds_val=[]\n",
    "for d in val:\n",
    "    user=d['username']\n",
    "    L=prev_us[user]\n",
    "    \n",
    "    labels_val.append(d['score_norm'])\n",
    "    pred=avScore\n",
    "    if len(L)>0:\n",
    "        pred=np.mean(L)\n",
    "    \n",
    "    preds_val.append(pred)\n",
    "\n",
    "print(\"Validation MSE: \", MSE(labels_val, preds_val))\n",
    "print(\"Validation MAE: \", MAE(labels_val, preds_val))"
   ]
  },
  {
   "cell_type": "code",
   "execution_count": 32,
   "metadata": {},
   "outputs": [
    {
     "name": "stdout",
     "output_type": "stream",
     "text": [
      "Test MSE:  0.03102\n",
      "Test MAE:  0.13953\n"
     ]
    }
   ],
   "source": [
    "labels_test=[]\n",
    "preds_test=[]\n",
    "for d in test:\n",
    "    user=d['username']\n",
    "    L=prev_us[user]\n",
    "    \n",
    "    labels_test.append(d['score_norm'])\n",
    "    pred=avScore\n",
    "    if len(L)>0:\n",
    "        pred=np.mean(L)\n",
    "    \n",
    "    preds_test.append(pred)\n",
    "\n",
    "print(\"Test MSE: \", MSE(labels_test, preds_test))\n",
    "print(\"Test MAE: \", MAE(labels_test, preds_test))"
   ]
  },
  {
   "cell_type": "markdown",
   "metadata": {},
   "source": [
    "### Functions\n"
   ]
  },
  {
   "cell_type": "code",
   "execution_count": 36,
   "metadata": {},
   "outputs": [],
   "source": [
    "def Jaccard(i1, i2):\n",
    "    u1=usersPerImage[i1]\n",
    "    u2=usersPerImage[i2]\n",
    "    \n",
    "    inter=len(u1.intersection(u2))\n",
    "    den=len(u1.union(u2))\n",
    "    \n",
    "    if den==0:\n",
    "        return 0\n",
    "    \n",
    "    return inter/den\n",
    "\n",
    "def SimilarityPred(user_, image):\n",
    "    users=usersPerImage[image]\n",
    "    \n",
    "    candidateImages=set()\n",
    "    for user in users:\n",
    "        for im in imagesPerUser[user]:\n",
    "            candidateImages.add(im)\n",
    "    \n",
    "    num=0\n",
    "    den=0\n",
    "    for im in candidateImages:\n",
    "        if im==image:\n",
    "            continue\n",
    "        \n",
    "        sim=Jaccard(image,im)\n",
    "        num+=(sim*sum(ScoresPerImage[im]) / len(ScoresPerImage[im]))\n",
    "        den+=sim\n",
    "        \n",
    "    if den==0:\n",
    "        if image in ScoresPerImage:\n",
    "            return sum(ScoresPerImage[image]) / len(ScoresPerImage[image])\n",
    "        else:\n",
    "            return avScore\n",
    "    else:\n",
    "        return num/den  \n"
   ]
  },
  {
   "cell_type": "markdown",
   "metadata": {},
   "source": [
    "### Features"
   ]
  },
  {
   "cell_type": "code",
   "execution_count": 37,
   "metadata": {},
   "outputs": [],
   "source": [
    "def feata(d):\n",
    "    return np.array(enc1.transform([[d['weekday']]]).toarray()).squeeze()\n",
    "    \n",
    "def featb(d):\n",
    "    return np.array(enc2.transform([[d['timeOfDay']]]).toarray()).squeeze()     \n",
    "\n",
    "def featc(d):\n",
    "    return np.array([d['title_len']/max_title_len])\n",
    "\n",
    "def featd(d):\n",
    "    return np.array([d['subscribers']/max_subscribers])\n",
    " \n",
    "def feate(d, train=False):\n",
    "    user=d['username']\n",
    "    time=d['unixtime']\n",
    "    pred=avScore\n",
    "    \n",
    "    if train:\n",
    "        if (user,time) in scorePerUserTime:\n",
    "            pred=scorePerUserTime[(user,time)]\n",
    "    else:\n",
    "        L=prev_us[user]\n",
    "        if len(L)>0:\n",
    "            pred=sum(L) / len(L)\n",
    "    \n",
    "    return np.array([pred])\n",
    "\n",
    "def featf(d, train=False):\n",
    "    image=d['#image_id']\n",
    "    time=d['unixtime']\n",
    "    pred=avScore\n",
    "    \n",
    "    if train:\n",
    "        if (image,time) in scorePerImageTime:\n",
    "            pred=scorePerImageTime[(image,time)]\n",
    "    else:\n",
    "        L=prev_im[image]\n",
    "        if len(L)>0:\n",
    "            pred=sum(L) / len(L)\n",
    "    \n",
    "    return np.array([pred]) \n",
    "\n",
    "def featg(d):\n",
    "    image=d['#image_id']\n",
    "    user=d['username']\n",
    "    pred=SimilarityPred(user,image)\n",
    "    return [pred]\n",
    "\n",
    "def feath(d):\n",
    "    return np.array([(d['unixtime'] - min_unix_time)/(max_unix_time - min_unix_time)])\n",
    "\n",
    "def feati(d):\n",
    "    sub=d['subreddit']\n",
    "    user=d['username']\n",
    "    image=d['#image_id']\n",
    "    \n",
    "    a=0\n",
    "    if sub in count_s:\n",
    "        a=count_s[sub]\n",
    "    \n",
    "    b=0\n",
    "    if user in count_u:\n",
    "        b=count_u[user]\n",
    "        \n",
    "    c=0\n",
    "    if image in count_i:\n",
    "        c=count_i[image]\n",
    "    \n",
    "    return np.array(([a/max_s, b/max_u, c/max_i])) "
   ]
  },
  {
   "cell_type": "code",
   "execution_count": 38,
   "metadata": {},
   "outputs": [],
   "source": [
    "def feature(di, a=True, b=True, c=True, d=True, e=True, f=True, g=True, h=True, i=True, train=False):\n",
    "    feat=[1]\n",
    "    if a:\n",
    "        feat1=feata(di)\n",
    "        for x in feat1:\n",
    "            feat.append(x)\n",
    "        \n",
    "    if b:\n",
    "        feat2=featb(di)\n",
    "        for x in feat2:\n",
    "            feat.append(x)\n",
    "\n",
    "    if c:\n",
    "        feat3=featc(di)\n",
    "        for x in feat3:\n",
    "            feat.append(x)\n",
    "            \n",
    "    if d:\n",
    "        feat4=featd(di)\n",
    "        for x in feat4:\n",
    "            feat.append(x)\n",
    "            \n",
    "    if e:\n",
    "        feat5=feate(di, train)\n",
    "        for x in feat5:\n",
    "            feat.append(x)\n",
    "            \n",
    "    if f:\n",
    "        feat6=featf(di, train)\n",
    "        for x in feat6:\n",
    "            feat.append(x)\n",
    "    \n",
    "    if g:\n",
    "        feat7=featg(di)\n",
    "        for x in feat7:\n",
    "            feat.append(x)        \n",
    "\n",
    "    if h:\n",
    "        feat8=feath(di)\n",
    "        for x in feat8:\n",
    "            feat.append(x)  \n",
    "            \n",
    "    if i:\n",
    "        feat9=feati(di)\n",
    "        for x in feat9:\n",
    "            feat.append(x)  \n",
    "            \n",
    "            \n",
    "    return feat"
   ]
  },
  {
   "cell_type": "markdown",
   "metadata": {},
   "source": [
    "### Model 1:  Linear Regression"
   ]
  },
  {
   "cell_type": "code",
   "execution_count": 39,
   "metadata": {},
   "outputs": [
    {
     "name": "stderr",
     "output_type": "stream",
     "text": [
      "100%|████████████████████████████████████████████████████████████████████████████████████████████████████████████████████████████████████████████████████████████████| 92567/92567 [01:56<00:00, 797.20it/s]\n"
     ]
    }
   ],
   "source": [
    "count_s=defaultdict()\n",
    "count_u=defaultdict()\n",
    "count_i=defaultdict()\n",
    "\n",
    "usersPerImage=defaultdict(set)\n",
    "imagesPerUser=defaultdict(set)\n",
    "ScoresPerImage=defaultdict(list)\n",
    "\n",
    "X=[]\n",
    "Y=[]\n",
    "    \n",
    "for i in tqdm(range(len(train))):\n",
    "    d=train[i]\n",
    "    \n",
    "    sub=d['subreddit']\n",
    "    user=d['username']\n",
    "    image=d['#image_id']\n",
    "    score=d['score_norm']\n",
    "    \n",
    "    if sub not in count_s:\n",
    "        count_s[sub]=0\n",
    "    \n",
    "    if user not in count_u:\n",
    "        count_u[user]=0\n",
    "        \n",
    "    if image not in count_i:\n",
    "        count_i[image]=0\n",
    "    \n",
    "    count_s[sub]+=1\n",
    "    count_i[image]+=1\n",
    "    count_u[user]+=1\n",
    "\n",
    "    usersPerImage[image].add(user)\n",
    "    imagesPerUser[user].add(image)\n",
    "    if image not in ScoresPerImage:\n",
    "        ScoresPerImage[image]=[]\n",
    "        \n",
    "    ScoresPerImage[image].append(score)\n",
    "    \n",
    "    X.append(feature(d,g=False, i=False, train=True))\n",
    "    Y.append(score)"
   ]
  },
  {
   "cell_type": "code",
   "execution_count": 40,
   "metadata": {},
   "outputs": [
    {
     "data": {
      "text/plain": [
       "array([ 2.73001233e-01,  3.88644598e-03,  5.11059889e-03,  5.57716803e-03,\n",
       "        3.59823813e-03, -8.68009010e-04, -3.22191045e-04,  8.94476531e-04,\n",
       "        2.11190561e-03, -8.82312231e-04,  1.28829560e-03,  5.96636054e-04,\n",
       "       -3.21552669e-04,  6.63268765e-03,  1.51050438e-03,  3.59239791e-05,\n",
       "       -5.72438524e-04, -6.41044025e-03, -1.16442846e-02, -2.04912679e-02,\n",
       "       -2.22134398e-02, -2.19934869e-02, -2.47618608e-02, -2.06508184e-02,\n",
       "       -1.76219507e-02, -1.76099295e-02, -1.57821630e-02, -1.32203198e-02,\n",
       "       -1.14376424e-02, -8.32573795e-03,  4.48455381e-02, -7.52607134e-02,\n",
       "        3.40954932e-01,  4.64037177e-01, -1.11788344e-01])"
      ]
     },
     "execution_count": 40,
     "metadata": {},
     "output_type": "execute_result"
    }
   ],
   "source": [
    "mod = linear_model.LinearRegression(fit_intercept=False)\n",
    "mod.fit(X,Y)\n",
    "mod.coef_"
   ]
  },
  {
   "cell_type": "code",
   "execution_count": 41,
   "metadata": {},
   "outputs": [
    {
     "name": "stdout",
     "output_type": "stream",
     "text": [
      "Training MSE:  0.01664\n",
      "Training MAE:  0.10046\n"
     ]
    }
   ],
   "source": [
    "Y_pred=mod.predict(X)\n",
    "print(\"Training MSE: \", MSE(Y, Y_pred))\n",
    "print(\"Training MAE: \", MAE(Y, Y_pred))"
   ]
  },
  {
   "cell_type": "code",
   "execution_count": 42,
   "metadata": {},
   "outputs": [
    {
     "name": "stderr",
     "output_type": "stream",
     "text": [
      "100%|███████████████████████████████████████████████████████████████████████████████████████████████████████████████████████████████████████████████████████████████| 11571/11571 [00:09<00:00, 1197.15it/s]"
     ]
    },
    {
     "name": "stdout",
     "output_type": "stream",
     "text": [
      "Validation MSE:  0.02893\n",
      "Validation MAE:  0.13541\n"
     ]
    },
    {
     "name": "stderr",
     "output_type": "stream",
     "text": [
      "\n"
     ]
    }
   ],
   "source": [
    "X=[]\n",
    "Y=[]\n",
    "\n",
    "for i in tqdm(range(len(val))):\n",
    "    d=val[i]\n",
    "    X.append(feature(d, g=False, i=False))\n",
    "    score=d['score_norm']\n",
    "    Y.append(score)\n",
    "\n",
    "Y_pred=mod.predict(X)    \n",
    "print(\"Validation MSE: \", MSE(Y, Y_pred))\n",
    "print(\"Validation MAE: \", MAE(Y, Y_pred))"
   ]
  },
  {
   "cell_type": "code",
   "execution_count": 43,
   "metadata": {},
   "outputs": [
    {
     "name": "stderr",
     "output_type": "stream",
     "text": [
      "100%|███████████████████████████████████████████████████████████████████████████████████████████████████████████████████████████████████████████████████████████████| 11571/11571 [00:09<00:00, 1215.33it/s]"
     ]
    },
    {
     "name": "stdout",
     "output_type": "stream",
     "text": [
      "Test MSE:  0.02717\n",
      "Test MAE:  0.13073\n"
     ]
    },
    {
     "name": "stderr",
     "output_type": "stream",
     "text": [
      "\n"
     ]
    }
   ],
   "source": [
    "X=[]\n",
    "Y=[]\n",
    "\n",
    "for i in tqdm(range(len(test))):\n",
    "    d=test[i]\n",
    "    X.append(feature(d, g=False, i=False))\n",
    "    score=d['score_norm']\n",
    "    Y.append(score)\n",
    "    \n",
    "\n",
    "Y_pred=mod.predict(X)     \n",
    "print(\"Test MSE: \", MSE(Y, Y_pred))\n",
    "print(\"Test MAE: \", MAE(Y, Y_pred))"
   ]
  },
  {
   "cell_type": "markdown",
   "metadata": {},
   "source": [
    "### Model 2: Weighted Jaccard Similarity +  Linear Regression"
   ]
  },
  {
   "cell_type": "code",
   "execution_count": 44,
   "metadata": {},
   "outputs": [
    {
     "name": "stderr",
     "output_type": "stream",
     "text": [
      "100%|████████████████████████████████████████████████████████████████████████████████████████████████████████████████████████████████████████████████████████████████| 92567/92567 [13:49<00:00, 111.55it/s]\n"
     ]
    }
   ],
   "source": [
    "count_s=defaultdict()\n",
    "count_u=defaultdict()\n",
    "count_i=defaultdict()\n",
    "\n",
    "usersPerImage=defaultdict(set)\n",
    "imagesPerUser=defaultdict(set)\n",
    "ScoresPerImage=defaultdict(list)\n",
    "\n",
    "X=[]\n",
    "Y=[]\n",
    "    \n",
    "for i in tqdm(range(len(train))):\n",
    "    d=train[i]\n",
    "    \n",
    "    sub=d['subreddit']\n",
    "    user=d['username']\n",
    "    image=d['#image_id']\n",
    "    score=d['score_norm']\n",
    "    \n",
    "    if sub not in count_s:\n",
    "        count_s[sub]=0\n",
    "    \n",
    "    if user not in count_u:\n",
    "        count_u[user]=0\n",
    "        \n",
    "    if image not in count_i:\n",
    "        count_i[image]=0\n",
    "    \n",
    "    count_s[sub]+=1\n",
    "    count_i[image]+=1\n",
    "    count_u[user]+=1\n",
    "\n",
    "    usersPerImage[image].add(user)\n",
    "    imagesPerUser[user].add(image)\n",
    "    if image not in ScoresPerImage:\n",
    "        ScoresPerImage[image]=[]\n",
    "        \n",
    "    ScoresPerImage[image].append(score)\n",
    "    \n",
    "    X.append(feature(d,train=True))\n",
    "    Y.append(score)"
   ]
  },
  {
   "cell_type": "code",
   "execution_count": 45,
   "metadata": {},
   "outputs": [
    {
     "data": {
      "text/plain": [
       "array([-1.86409552e-02,  3.90262094e-03,  4.86724500e-03,  5.23662094e-03,\n",
       "        3.63953860e-03, -6.11281595e-04, -5.31597433e-05,  4.02085537e-04,\n",
       "        1.68983516e-03, -6.73041237e-04,  1.19191169e-03, -6.14403222e-04,\n",
       "        3.83954614e-04,  5.86144904e-03,  2.00466898e-03,  1.46054489e-03,\n",
       "        1.52716691e-03, -4.08501378e-03, -9.10748758e-03, -1.70982661e-02,\n",
       "       -1.76683490e-02, -1.88762426e-02, -2.21306980e-02, -1.90969710e-02,\n",
       "       -1.52490229e-02, -1.52334098e-02, -1.39498660e-02, -1.18150175e-02,\n",
       "       -1.03998992e-02, -7.01219165e-03,  4.76066498e-02, -5.39319999e-02,\n",
       "        1.70303862e-01,  3.50547426e-01,  5.93914795e-01,  4.22425901e-03,\n",
       "       -5.47817406e-02, -1.56817360e-01, -1.63217713e-01])"
      ]
     },
     "execution_count": 45,
     "metadata": {},
     "output_type": "execute_result"
    }
   ],
   "source": [
    "mod = linear_model.LinearRegression(fit_intercept=False)\n",
    "mod.fit(X,Y)\n",
    "mod.coef_"
   ]
  },
  {
   "cell_type": "code",
   "execution_count": 46,
   "metadata": {},
   "outputs": [
    {
     "name": "stdout",
     "output_type": "stream",
     "text": [
      "Training MSE:  0.01515\n",
      "Training MAE:  0.09391\n"
     ]
    }
   ],
   "source": [
    "Y_pred=mod.predict(X)\n",
    "print(\"Training MSE: \", MSE(Y, Y_pred))\n",
    "print(\"Training MAE: \", MAE(Y, Y_pred))"
   ]
  },
  {
   "cell_type": "code",
   "execution_count": 47,
   "metadata": {},
   "outputs": [
    {
     "name": "stderr",
     "output_type": "stream",
     "text": [
      "100%|█████████████████████████████████████████████████████████████████████████████████████████████████████████████████████████████████████████████████████████████████| 11571/11571 [02:11<00:00, 88.28it/s]"
     ]
    },
    {
     "name": "stdout",
     "output_type": "stream",
     "text": [
      "Validation MSE:  0.02831\n",
      "Validation MAE:  0.13383\n"
     ]
    },
    {
     "name": "stderr",
     "output_type": "stream",
     "text": [
      "\n"
     ]
    }
   ],
   "source": [
    "X=[]\n",
    "Y=[]\n",
    "\n",
    "for i in tqdm(range(len(val))):\n",
    "    d=val[i]\n",
    "    X.append(feature(d))\n",
    "    score=d['score_norm']\n",
    "    Y.append(score)\n",
    "\n",
    "Y_pred=mod.predict(X)    \n",
    "print(\"Validation MSE: \", MSE(Y, Y_pred))\n",
    "print(\"Validation MAE: \", MAE(Y, Y_pred))"
   ]
  },
  {
   "cell_type": "code",
   "execution_count": 48,
   "metadata": {},
   "outputs": [
    {
     "name": "stderr",
     "output_type": "stream",
     "text": [
      " 24%|██████████████████████████████████████▏                                                                                                                           | 2727/11571 [00:28<01:33, 94.23it/s]\n"
     ]
    },
    {
     "ename": "KeyboardInterrupt",
     "evalue": "",
     "output_type": "error",
     "traceback": [
      "\u001b[0;31m---------------------------------------------------------------------------\u001b[0m",
      "\u001b[0;31mKeyboardInterrupt\u001b[0m                         Traceback (most recent call last)",
      "\u001b[0;32m/tmp/ipykernel_5705/2978622153.py\u001b[0m in \u001b[0;36m<module>\u001b[0;34m\u001b[0m\n\u001b[1;32m      4\u001b[0m \u001b[0;32mfor\u001b[0m \u001b[0mi\u001b[0m \u001b[0;32min\u001b[0m \u001b[0mtqdm\u001b[0m\u001b[0;34m(\u001b[0m\u001b[0mrange\u001b[0m\u001b[0;34m(\u001b[0m\u001b[0mlen\u001b[0m\u001b[0;34m(\u001b[0m\u001b[0mtest\u001b[0m\u001b[0;34m)\u001b[0m\u001b[0;34m)\u001b[0m\u001b[0;34m)\u001b[0m\u001b[0;34m:\u001b[0m\u001b[0;34m\u001b[0m\u001b[0;34m\u001b[0m\u001b[0m\n\u001b[1;32m      5\u001b[0m     \u001b[0md\u001b[0m\u001b[0;34m=\u001b[0m\u001b[0mtest\u001b[0m\u001b[0;34m[\u001b[0m\u001b[0mi\u001b[0m\u001b[0;34m]\u001b[0m\u001b[0;34m\u001b[0m\u001b[0;34m\u001b[0m\u001b[0m\n\u001b[0;32m----> 6\u001b[0;31m     \u001b[0mX\u001b[0m\u001b[0;34m.\u001b[0m\u001b[0mappend\u001b[0m\u001b[0;34m(\u001b[0m\u001b[0mfeature\u001b[0m\u001b[0;34m(\u001b[0m\u001b[0md\u001b[0m\u001b[0;34m)\u001b[0m\u001b[0;34m)\u001b[0m\u001b[0;34m\u001b[0m\u001b[0;34m\u001b[0m\u001b[0m\n\u001b[0m\u001b[1;32m      7\u001b[0m     \u001b[0mscore\u001b[0m\u001b[0;34m=\u001b[0m\u001b[0md\u001b[0m\u001b[0;34m[\u001b[0m\u001b[0;34m'score_norm'\u001b[0m\u001b[0;34m]\u001b[0m\u001b[0;34m\u001b[0m\u001b[0;34m\u001b[0m\u001b[0m\n\u001b[1;32m      8\u001b[0m     \u001b[0mY\u001b[0m\u001b[0;34m.\u001b[0m\u001b[0mappend\u001b[0m\u001b[0;34m(\u001b[0m\u001b[0mscore\u001b[0m\u001b[0;34m)\u001b[0m\u001b[0;34m\u001b[0m\u001b[0;34m\u001b[0m\u001b[0m\n",
      "\u001b[0;32m/tmp/ipykernel_5705/3580428725.py\u001b[0m in \u001b[0;36mfeature\u001b[0;34m(di, a, b, c, d, e, f, g, h, i, train)\u001b[0m\n\u001b[1;32m     32\u001b[0m \u001b[0;34m\u001b[0m\u001b[0m\n\u001b[1;32m     33\u001b[0m     \u001b[0;32mif\u001b[0m \u001b[0mg\u001b[0m\u001b[0;34m:\u001b[0m\u001b[0;34m\u001b[0m\u001b[0;34m\u001b[0m\u001b[0m\n\u001b[0;32m---> 34\u001b[0;31m         \u001b[0mfeat7\u001b[0m\u001b[0;34m=\u001b[0m\u001b[0mfeatg\u001b[0m\u001b[0;34m(\u001b[0m\u001b[0mdi\u001b[0m\u001b[0;34m)\u001b[0m\u001b[0;34m\u001b[0m\u001b[0;34m\u001b[0m\u001b[0m\n\u001b[0m\u001b[1;32m     35\u001b[0m         \u001b[0;32mfor\u001b[0m \u001b[0mx\u001b[0m \u001b[0;32min\u001b[0m \u001b[0mfeat7\u001b[0m\u001b[0;34m:\u001b[0m\u001b[0;34m\u001b[0m\u001b[0;34m\u001b[0m\u001b[0m\n\u001b[1;32m     36\u001b[0m             \u001b[0mfeat\u001b[0m\u001b[0;34m.\u001b[0m\u001b[0mappend\u001b[0m\u001b[0;34m(\u001b[0m\u001b[0mx\u001b[0m\u001b[0;34m)\u001b[0m\u001b[0;34m\u001b[0m\u001b[0;34m\u001b[0m\u001b[0m\n",
      "\u001b[0;32m/tmp/ipykernel_5705/3214456701.py\u001b[0m in \u001b[0;36mfeatg\u001b[0;34m(d)\u001b[0m\n\u001b[1;32m     44\u001b[0m     \u001b[0mimage\u001b[0m\u001b[0;34m=\u001b[0m\u001b[0md\u001b[0m\u001b[0;34m[\u001b[0m\u001b[0;34m'#image_id'\u001b[0m\u001b[0;34m]\u001b[0m\u001b[0;34m\u001b[0m\u001b[0;34m\u001b[0m\u001b[0m\n\u001b[1;32m     45\u001b[0m     \u001b[0muser\u001b[0m\u001b[0;34m=\u001b[0m\u001b[0md\u001b[0m\u001b[0;34m[\u001b[0m\u001b[0;34m'username'\u001b[0m\u001b[0;34m]\u001b[0m\u001b[0;34m\u001b[0m\u001b[0;34m\u001b[0m\u001b[0m\n\u001b[0;32m---> 46\u001b[0;31m     \u001b[0mpred\u001b[0m\u001b[0;34m=\u001b[0m\u001b[0mSimilarityPred\u001b[0m\u001b[0;34m(\u001b[0m\u001b[0muser\u001b[0m\u001b[0;34m,\u001b[0m\u001b[0mimage\u001b[0m\u001b[0;34m)\u001b[0m\u001b[0;34m\u001b[0m\u001b[0;34m\u001b[0m\u001b[0m\n\u001b[0m\u001b[1;32m     47\u001b[0m     \u001b[0;32mreturn\u001b[0m \u001b[0;34m[\u001b[0m\u001b[0mpred\u001b[0m\u001b[0;34m]\u001b[0m\u001b[0;34m\u001b[0m\u001b[0;34m\u001b[0m\u001b[0m\n\u001b[1;32m     48\u001b[0m \u001b[0;34m\u001b[0m\u001b[0m\n",
      "\u001b[0;32m/tmp/ipykernel_5705/3972854440.py\u001b[0m in \u001b[0;36mSimilarityPred\u001b[0;34m(user_, image)\u001b[0m\n\u001b[1;32m     25\u001b[0m             \u001b[0;32mcontinue\u001b[0m\u001b[0;34m\u001b[0m\u001b[0;34m\u001b[0m\u001b[0m\n\u001b[1;32m     26\u001b[0m \u001b[0;34m\u001b[0m\u001b[0m\n\u001b[0;32m---> 27\u001b[0;31m         \u001b[0msim\u001b[0m\u001b[0;34m=\u001b[0m\u001b[0mJaccard\u001b[0m\u001b[0;34m(\u001b[0m\u001b[0mimage\u001b[0m\u001b[0;34m,\u001b[0m\u001b[0mim\u001b[0m\u001b[0;34m)\u001b[0m\u001b[0;34m\u001b[0m\u001b[0;34m\u001b[0m\u001b[0m\n\u001b[0m\u001b[1;32m     28\u001b[0m         \u001b[0mnum\u001b[0m\u001b[0;34m+=\u001b[0m\u001b[0;34m(\u001b[0m\u001b[0msim\u001b[0m\u001b[0;34m*\u001b[0m\u001b[0msum\u001b[0m\u001b[0;34m(\u001b[0m\u001b[0mScoresPerImage\u001b[0m\u001b[0;34m[\u001b[0m\u001b[0mim\u001b[0m\u001b[0;34m]\u001b[0m\u001b[0;34m)\u001b[0m \u001b[0;34m/\u001b[0m \u001b[0mlen\u001b[0m\u001b[0;34m(\u001b[0m\u001b[0mScoresPerImage\u001b[0m\u001b[0;34m[\u001b[0m\u001b[0mim\u001b[0m\u001b[0;34m]\u001b[0m\u001b[0;34m)\u001b[0m\u001b[0;34m)\u001b[0m\u001b[0;34m\u001b[0m\u001b[0;34m\u001b[0m\u001b[0m\n\u001b[1;32m     29\u001b[0m         \u001b[0mden\u001b[0m\u001b[0;34m+=\u001b[0m\u001b[0msim\u001b[0m\u001b[0;34m\u001b[0m\u001b[0;34m\u001b[0m\u001b[0m\n",
      "\u001b[0;32m/tmp/ipykernel_5705/3972854440.py\u001b[0m in \u001b[0;36mJaccard\u001b[0;34m(i1, i2)\u001b[0m\n\u001b[1;32m      3\u001b[0m     \u001b[0mu2\u001b[0m\u001b[0;34m=\u001b[0m\u001b[0musersPerImage\u001b[0m\u001b[0;34m[\u001b[0m\u001b[0mi2\u001b[0m\u001b[0;34m]\u001b[0m\u001b[0;34m\u001b[0m\u001b[0;34m\u001b[0m\u001b[0m\n\u001b[1;32m      4\u001b[0m \u001b[0;34m\u001b[0m\u001b[0m\n\u001b[0;32m----> 5\u001b[0;31m     \u001b[0minter\u001b[0m\u001b[0;34m=\u001b[0m\u001b[0mlen\u001b[0m\u001b[0;34m(\u001b[0m\u001b[0mu1\u001b[0m\u001b[0;34m.\u001b[0m\u001b[0mintersection\u001b[0m\u001b[0;34m(\u001b[0m\u001b[0mu2\u001b[0m\u001b[0;34m)\u001b[0m\u001b[0;34m)\u001b[0m\u001b[0;34m\u001b[0m\u001b[0;34m\u001b[0m\u001b[0m\n\u001b[0m\u001b[1;32m      6\u001b[0m     \u001b[0mden\u001b[0m\u001b[0;34m=\u001b[0m\u001b[0mlen\u001b[0m\u001b[0;34m(\u001b[0m\u001b[0mu1\u001b[0m\u001b[0;34m.\u001b[0m\u001b[0munion\u001b[0m\u001b[0;34m(\u001b[0m\u001b[0mu2\u001b[0m\u001b[0;34m)\u001b[0m\u001b[0;34m)\u001b[0m\u001b[0;34m\u001b[0m\u001b[0;34m\u001b[0m\u001b[0m\n\u001b[1;32m      7\u001b[0m \u001b[0;34m\u001b[0m\u001b[0m\n",
      "\u001b[0;31mKeyboardInterrupt\u001b[0m: "
     ]
    }
   ],
   "source": [
    "X=[]\n",
    "Y=[]\n",
    "\n",
    "for i in tqdm(range(len(test))):\n",
    "    d=test[i]\n",
    "    X.append(feature(d))\n",
    "    score=d['score_norm']\n",
    "    Y.append(score)\n",
    "\n",
    "Y_pred=mod.predict(X)     \n",
    "print(\"Test MSE: \", MSE(Y, Y_pred))\n",
    "print(\"Test MAE: \", MAE(Y, Y_pred))"
   ]
  },
  {
   "cell_type": "markdown",
   "metadata": {},
   "source": [
    "### Model 3: Ridge Regression"
   ]
  },
  {
   "cell_type": "code",
   "execution_count": 53,
   "metadata": {},
   "outputs": [
    {
     "name": "stderr",
     "output_type": "stream",
     "text": [
      "100%|████████████████████████████████████████████████████████████████████████████████████████████████████████████████████████████████████████████████████████████████| 92567/92567 [13:27<00:00, 114.67it/s]\n",
      "100%|█████████████████████████████████████████████████████████████████████████████████████████████████████████████████████████████████████████████████████████████████| 11571/11571 [01:56<00:00, 99.00it/s]\n",
      "100%|█████████████████████████████████████████████████████████████████████████████████████████████████████████████████████████████████████████████████████████████████| 11571/11571 [02:01<00:00, 95.51it/s]\n"
     ]
    }
   ],
   "source": [
    "count_s=defaultdict()\n",
    "count_u=defaultdict()\n",
    "count_i=defaultdict()\n",
    "\n",
    "usersPerImage=defaultdict(set)\n",
    "imagesPerUser=defaultdict(set)\n",
    "ScoresPerImage=defaultdict(list)\n",
    "\n",
    "X_train=[]\n",
    "Y_train=[]\n",
    "    \n",
    "for i in tqdm(range(len(train))):\n",
    "    d=train[i]\n",
    "    \n",
    "    sub=d['subreddit']\n",
    "    user=d['username']\n",
    "    image=d['#image_id']\n",
    "    score=d['score_norm']\n",
    "    \n",
    "    if sub not in count_s:\n",
    "        count_s[sub]=0\n",
    "    \n",
    "    if user not in count_u:\n",
    "        count_u[user]=0\n",
    "        \n",
    "    if image not in count_i:\n",
    "        count_i[image]=0\n",
    "    \n",
    "    count_s[sub]+=1\n",
    "    count_i[image]+=1\n",
    "    count_u[user]+=1\n",
    "\n",
    "    usersPerImage[image].add(user)\n",
    "    imagesPerUser[user].add(image)\n",
    "    if image not in ScoresPerImage:\n",
    "        ScoresPerImage[image]=[]\n",
    "        \n",
    "    ScoresPerImage[image].append(score)\n",
    "    \n",
    "    X_train.append(feature(d,train=True))\n",
    "    Y_train.append(score)\n",
    "\n",
    "X_val=[]\n",
    "Y_val=[]\n",
    "\n",
    "for i in tqdm(range(len(val))):\n",
    "    d=val[i]\n",
    "    X_val.append(feature(d))\n",
    "    score=d['score_norm']\n",
    "    Y_val.append(score)\n",
    "\n",
    "X_test=[]\n",
    "Y_test=[]\n",
    "\n",
    "for i in tqdm(range(len(test))):\n",
    "    d=test[i]\n",
    "    X_test.append(feature(d))\n",
    "    score=d['score_norm']\n",
    "    Y_test.append(score)"
   ]
  },
  {
   "cell_type": "code",
   "execution_count": 92,
   "metadata": {},
   "outputs": [
    {
     "name": "stderr",
     "output_type": "stream",
     "text": [
      "\u001b[32m[I 2021-11-30 13:18:19,663]\u001b[0m A new study created in memory with name: no-name-c6d2d085-bf56-48ef-93f4-226c12a9b5b8\u001b[0m\n",
      "\u001b[32m[I 2021-11-30 13:18:20,334]\u001b[0m Trial 0 finished with value: 0.03014 and parameters: {'alpha': 9581}. Best is trial 0 with value: 0.03014.\u001b[0m\n",
      "\u001b[32m[I 2021-11-30 13:18:21,041]\u001b[0m Trial 1 finished with value: 0.02784 and parameters: {'alpha': 1255}. Best is trial 1 with value: 0.02784.\u001b[0m\n",
      "\u001b[32m[I 2021-11-30 13:18:21,741]\u001b[0m Trial 2 finished with value: 0.02785 and parameters: {'alpha': 1259}. Best is trial 1 with value: 0.02784.\u001b[0m\n",
      "\u001b[32m[I 2021-11-30 13:18:22,439]\u001b[0m Trial 3 finished with value: 0.02781 and parameters: {'alpha': 1129}. Best is trial 3 with value: 0.02781.\u001b[0m\n",
      "\u001b[32m[I 2021-11-30 13:18:23,142]\u001b[0m Trial 4 finished with value: 0.02864 and parameters: {'alpha': 3623}. Best is trial 3 with value: 0.02781.\u001b[0m\n",
      "\u001b[32m[I 2021-11-30 13:18:23,886]\u001b[0m Trial 5 finished with value: 0.02959 and parameters: {'alpha': 6930}. Best is trial 3 with value: 0.02781.\u001b[0m\n",
      "\u001b[32m[I 2021-11-30 13:18:24,584]\u001b[0m Trial 6 finished with value: 0.0301 and parameters: {'alpha': 9343}. Best is trial 3 with value: 0.02781.\u001b[0m\n",
      "\u001b[32m[I 2021-11-30 13:18:25,278]\u001b[0m Trial 7 finished with value: 0.02982 and parameters: {'alpha': 7947}. Best is trial 3 with value: 0.02781.\u001b[0m\n",
      "\u001b[32m[I 2021-11-30 13:18:25,976]\u001b[0m Trial 8 finished with value: 0.02773 and parameters: {'alpha': 497}. Best is trial 8 with value: 0.02773.\u001b[0m\n",
      "\u001b[32m[I 2021-11-30 13:18:26,827]\u001b[0m Trial 9 finished with value: 0.02863 and parameters: {'alpha': 3593}. Best is trial 8 with value: 0.02773.\u001b[0m\n",
      "\u001b[32m[I 2021-11-30 13:18:27,540]\u001b[0m Trial 10 finished with value: 0.02822 and parameters: {'alpha': 17}. Best is trial 8 with value: 0.02773.\u001b[0m\n",
      "\u001b[32m[I 2021-11-30 13:18:28,237]\u001b[0m Trial 11 finished with value: 0.0283 and parameters: {'alpha': 2640}. Best is trial 8 with value: 0.02773.\u001b[0m\n",
      "\u001b[32m[I 2021-11-30 13:18:28,942]\u001b[0m Trial 12 finished with value: 0.02802 and parameters: {'alpha': 72}. Best is trial 8 with value: 0.02773.\u001b[0m\n",
      "\u001b[32m[I 2021-11-30 13:18:29,638]\u001b[0m Trial 13 finished with value: 0.02929 and parameters: {'alpha': 5790}. Best is trial 8 with value: 0.02773.\u001b[0m\n",
      "\u001b[32m[I 2021-11-30 13:18:30,345]\u001b[0m Trial 14 finished with value: 0.02822 and parameters: {'alpha': 2422}. Best is trial 8 with value: 0.02773.\u001b[0m\n",
      "\u001b[32m[I 2021-11-30 13:18:31,048]\u001b[0m Trial 15 finished with value: 0.02914 and parameters: {'alpha': 5240}. Best is trial 8 with value: 0.02773.\u001b[0m\n",
      "\u001b[32m[I 2021-11-30 13:18:31,745]\u001b[0m Trial 16 finished with value: 0.02796 and parameters: {'alpha': 1642}. Best is trial 8 with value: 0.02773.\u001b[0m\n",
      "\u001b[32m[I 2021-11-30 13:18:32,449]\u001b[0m Trial 17 finished with value: 0.02872 and parameters: {'alpha': 3871}. Best is trial 8 with value: 0.02773.\u001b[0m\n",
      "\u001b[32m[I 2021-11-30 13:18:33,155]\u001b[0m Trial 18 finished with value: 0.02775 and parameters: {'alpha': 834}. Best is trial 8 with value: 0.02773.\u001b[0m\n",
      "\u001b[32m[I 2021-11-30 13:18:33,909]\u001b[0m Trial 19 finished with value: 0.02836 and parameters: {'alpha': 2825}. Best is trial 8 with value: 0.02773.\u001b[0m\n",
      "\u001b[32m[I 2021-11-30 13:18:34,691]\u001b[0m Trial 20 finished with value: 0.02774 and parameters: {'alpha': 409}. Best is trial 8 with value: 0.02773.\u001b[0m\n",
      "\u001b[32m[I 2021-11-30 13:18:35,455]\u001b[0m Trial 21 finished with value: 0.02776 and parameters: {'alpha': 313}. Best is trial 8 with value: 0.02773.\u001b[0m\n",
      "\u001b[32m[I 2021-11-30 13:18:36,173]\u001b[0m Trial 22 finished with value: 0.02774 and parameters: {'alpha': 797}. Best is trial 8 with value: 0.02773.\u001b[0m\n",
      "\u001b[32m[I 2021-11-30 13:18:36,880]\u001b[0m Trial 23 finished with value: 0.02817 and parameters: {'alpha': 2275}. Best is trial 8 with value: 0.02773.\u001b[0m\n",
      "\u001b[32m[I 2021-11-30 13:18:37,635]\u001b[0m Trial 24 finished with value: 0.02803 and parameters: {'alpha': 1851}. Best is trial 8 with value: 0.02773.\u001b[0m\n",
      "\u001b[32m[I 2021-11-30 13:18:38,395]\u001b[0m Trial 25 finished with value: 0.02773 and parameters: {'alpha': 618}. Best is trial 8 with value: 0.02773.\u001b[0m\n",
      "\u001b[32m[I 2021-11-30 13:18:39,178]\u001b[0m Trial 26 finished with value: 0.02887 and parameters: {'alpha': 4358}. Best is trial 8 with value: 0.02773.\u001b[0m\n",
      "\u001b[32m[I 2021-11-30 13:18:39,985]\u001b[0m Trial 27 finished with value: 0.02804 and parameters: {'alpha': 1888}. Best is trial 8 with value: 0.02773.\u001b[0m\n",
      "\u001b[32m[I 2021-11-30 13:18:40,704]\u001b[0m Trial 28 finished with value: 0.02845 and parameters: {'alpha': 3071}. Best is trial 8 with value: 0.02773.\u001b[0m\n",
      "\u001b[32m[I 2021-11-30 13:18:41,449]\u001b[0m Trial 29 finished with value: 0.02772 and parameters: {'alpha': 608}. Best is trial 29 with value: 0.02772.\u001b[0m\n",
      "\u001b[32m[I 2021-11-30 13:18:42,248]\u001b[0m Trial 30 finished with value: 0.02941 and parameters: {'alpha': 6244}. Best is trial 29 with value: 0.02772.\u001b[0m\n",
      "\u001b[32m[I 2021-11-30 13:18:43,023]\u001b[0m Trial 31 finished with value: 0.02775 and parameters: {'alpha': 831}. Best is trial 29 with value: 0.02772.\u001b[0m\n",
      "\u001b[32m[I 2021-11-30 13:18:43,723]\u001b[0m Trial 32 finished with value: 0.02774 and parameters: {'alpha': 744}. Best is trial 29 with value: 0.02772.\u001b[0m\n",
      "\u001b[32m[I 2021-11-30 13:18:44,425]\u001b[0m Trial 33 finished with value: 0.02791 and parameters: {'alpha': 1494}. Best is trial 29 with value: 0.02772.\u001b[0m\n",
      "\u001b[32m[I 2021-11-30 13:18:45,127]\u001b[0m Trial 34 finished with value: 0.02788 and parameters: {'alpha': 1364}. Best is trial 29 with value: 0.02772.\u001b[0m\n",
      "\u001b[32m[I 2021-11-30 13:18:45,828]\u001b[0m Trial 35 finished with value: 0.02774 and parameters: {'alpha': 788}. Best is trial 29 with value: 0.02772.\u001b[0m\n",
      "\u001b[32m[I 2021-11-30 13:18:46,545]\u001b[0m Trial 36 finished with value: 0.02813 and parameters: {'alpha': 2143}. Best is trial 29 with value: 0.02772.\u001b[0m\n",
      "\u001b[32m[I 2021-11-30 13:18:47,250]\u001b[0m Trial 37 finished with value: 0.02782 and parameters: {'alpha': 1167}. Best is trial 29 with value: 0.02772.\u001b[0m\n",
      "\u001b[32m[I 2021-11-30 13:18:48,019]\u001b[0m Trial 38 finished with value: 0.02851 and parameters: {'alpha': 3252}. Best is trial 29 with value: 0.02772.\u001b[0m\n",
      "\u001b[32m[I 2021-11-30 13:18:48,786]\u001b[0m Trial 39 finished with value: 0.03002 and parameters: {'alpha': 8952}. Best is trial 29 with value: 0.02772.\u001b[0m\n",
      "\u001b[32m[I 2021-11-30 13:18:49,498]\u001b[0m Trial 40 finished with value: 0.02775 and parameters: {'alpha': 347}. Best is trial 29 with value: 0.02772.\u001b[0m\n",
      "\u001b[32m[I 2021-11-30 13:18:50,216]\u001b[0m Trial 41 finished with value: 0.02773 and parameters: {'alpha': 668}. Best is trial 29 with value: 0.02772.\u001b[0m\n",
      "\u001b[32m[I 2021-11-30 13:18:51,118]\u001b[0m Trial 42 finished with value: 0.02785 and parameters: {'alpha': 1288}. Best is trial 29 with value: 0.02772.\u001b[0m\n",
      "\u001b[32m[I 2021-11-30 13:18:51,824]\u001b[0m Trial 43 finished with value: 0.02772 and parameters: {'alpha': 608}. Best is trial 29 with value: 0.02772.\u001b[0m\n",
      "\u001b[32m[I 2021-11-30 13:18:52,526]\u001b[0m Trial 44 finished with value: 0.0283 and parameters: {'alpha': 1}. Best is trial 29 with value: 0.02772.\u001b[0m\n",
      "\u001b[32m[I 2021-11-30 13:18:53,228]\u001b[0m Trial 45 finished with value: 0.02799 and parameters: {'alpha': 1719}. Best is trial 29 with value: 0.02772.\u001b[0m\n",
      "\u001b[32m[I 2021-11-30 13:18:54,391]\u001b[0m Trial 46 finished with value: 0.02967 and parameters: {'alpha': 7266}. Best is trial 29 with value: 0.02772.\u001b[0m\n",
      "\u001b[32m[I 2021-11-30 13:18:55,156]\u001b[0m Trial 47 finished with value: 0.02772 and parameters: {'alpha': 526}. Best is trial 29 with value: 0.02772.\u001b[0m\n",
      "\u001b[32m[I 2021-11-30 13:18:55,857]\u001b[0m Trial 48 finished with value: 0.02782 and parameters: {'alpha': 1146}. Best is trial 29 with value: 0.02772.\u001b[0m\n",
      "\u001b[32m[I 2021-11-30 13:18:56,574]\u001b[0m Trial 49 finished with value: 0.02799 and parameters: {'alpha': 88}. Best is trial 29 with value: 0.02772.\u001b[0m\n",
      "\u001b[32m[I 2021-11-30 13:18:57,274]\u001b[0m Trial 50 finished with value: 0.0281 and parameters: {'alpha': 2072}. Best is trial 29 with value: 0.02772.\u001b[0m\n",
      "\u001b[32m[I 2021-11-30 13:18:57,993]\u001b[0m Trial 51 finished with value: 0.02772 and parameters: {'alpha': 548}. Best is trial 29 with value: 0.02772.\u001b[0m\n",
      "\u001b[32m[I 2021-11-30 13:18:58,688]\u001b[0m Trial 52 finished with value: 0.02777 and parameters: {'alpha': 946}. Best is trial 29 with value: 0.02772.\u001b[0m\n",
      "\u001b[32m[I 2021-11-30 13:18:59,388]\u001b[0m Trial 53 finished with value: 0.02776 and parameters: {'alpha': 323}. Best is trial 29 with value: 0.02772.\u001b[0m\n",
      "\u001b[32m[I 2021-11-30 13:19:00,320]\u001b[0m Trial 54 finished with value: 0.02772 and parameters: {'alpha': 512}. Best is trial 29 with value: 0.02772.\u001b[0m\n"
     ]
    },
    {
     "name": "stderr",
     "output_type": "stream",
     "text": [
      "\u001b[32m[I 2021-11-30 13:19:01,292]\u001b[0m Trial 55 finished with value: 0.02792 and parameters: {'alpha': 1522}. Best is trial 29 with value: 0.02772.\u001b[0m\n",
      "\u001b[32m[I 2021-11-30 13:19:01,998]\u001b[0m Trial 56 finished with value: 0.02827 and parameters: {'alpha': 2555}. Best is trial 29 with value: 0.02772.\u001b[0m\n",
      "\u001b[32m[I 2021-11-30 13:19:02,716]\u001b[0m Trial 57 finished with value: 0.02772 and parameters: {'alpha': 532}. Best is trial 29 with value: 0.02772.\u001b[0m\n",
      "\u001b[32m[I 2021-11-30 13:19:03,426]\u001b[0m Trial 58 finished with value: 0.02827 and parameters: {'alpha': 7}. Best is trial 29 with value: 0.02772.\u001b[0m\n",
      "\u001b[32m[I 2021-11-30 13:19:04,277]\u001b[0m Trial 59 finished with value: 0.02783 and parameters: {'alpha': 1202}. Best is trial 29 with value: 0.02772.\u001b[0m\n",
      "\u001b[32m[I 2021-11-30 13:19:05,182]\u001b[0m Trial 60 finished with value: 0.02773 and parameters: {'alpha': 437}. Best is trial 29 with value: 0.02772.\u001b[0m\n",
      "\u001b[32m[I 2021-11-30 13:19:05,870]\u001b[0m Trial 61 finished with value: 0.02773 and parameters: {'alpha': 480}. Best is trial 29 with value: 0.02772.\u001b[0m\n",
      "\u001b[32m[I 2021-11-30 13:19:06,573]\u001b[0m Trial 62 finished with value: 0.02779 and parameters: {'alpha': 1024}. Best is trial 29 with value: 0.02772.\u001b[0m\n",
      "\u001b[32m[I 2021-11-30 13:19:07,271]\u001b[0m Trial 63 finished with value: 0.02773 and parameters: {'alpha': 677}. Best is trial 29 with value: 0.02772.\u001b[0m\n",
      "\u001b[32m[I 2021-11-30 13:19:07,973]\u001b[0m Trial 64 finished with value: 0.02797 and parameters: {'alpha': 1675}. Best is trial 29 with value: 0.02772.\u001b[0m\n",
      "\u001b[32m[I 2021-11-30 13:19:08,670]\u001b[0m Trial 65 finished with value: 0.02773 and parameters: {'alpha': 485}. Best is trial 29 with value: 0.02772.\u001b[0m\n",
      "\u001b[32m[I 2021-11-30 13:19:09,385]\u001b[0m Trial 66 finished with value: 0.02775 and parameters: {'alpha': 360}. Best is trial 29 with value: 0.02772.\u001b[0m\n",
      "\u001b[32m[I 2021-11-30 13:19:10,082]\u001b[0m Trial 67 finished with value: 0.02903 and parameters: {'alpha': 4865}. Best is trial 29 with value: 0.02772.\u001b[0m\n",
      "\u001b[32m[I 2021-11-30 13:19:10,780]\u001b[0m Trial 68 finished with value: 0.02807 and parameters: {'alpha': 1974}. Best is trial 29 with value: 0.02772.\u001b[0m\n",
      "\u001b[32m[I 2021-11-30 13:19:11,476]\u001b[0m Trial 69 finished with value: 0.02778 and parameters: {'alpha': 978}. Best is trial 29 with value: 0.02772.\u001b[0m\n",
      "\u001b[32m[I 2021-11-30 13:19:12,175]\u001b[0m Trial 70 finished with value: 0.02791 and parameters: {'alpha': 1478}. Best is trial 29 with value: 0.02772.\u001b[0m\n",
      "\u001b[32m[I 2021-11-30 13:19:12,870]\u001b[0m Trial 71 finished with value: 0.02773 and parameters: {'alpha': 626}. Best is trial 29 with value: 0.02772.\u001b[0m\n",
      "\u001b[32m[I 2021-11-30 13:19:13,570]\u001b[0m Trial 72 finished with value: 0.02773 and parameters: {'alpha': 687}. Best is trial 29 with value: 0.02772.\u001b[0m\n",
      "\u001b[32m[I 2021-11-30 13:19:14,268]\u001b[0m Trial 73 finished with value: 0.02783 and parameters: {'alpha': 203}. Best is trial 29 with value: 0.02772.\u001b[0m\n",
      "\u001b[32m[I 2021-11-30 13:19:14,965]\u001b[0m Trial 74 finished with value: 0.02779 and parameters: {'alpha': 1021}. Best is trial 29 with value: 0.02772.\u001b[0m\n",
      "\u001b[32m[I 2021-11-30 13:19:15,666]\u001b[0m Trial 75 finished with value: 0.02776 and parameters: {'alpha': 333}. Best is trial 29 with value: 0.02772.\u001b[0m\n",
      "\u001b[32m[I 2021-11-30 13:19:16,424]\u001b[0m Trial 76 finished with value: 0.0279 and parameters: {'alpha': 1451}. Best is trial 29 with value: 0.02772.\u001b[0m\n",
      "\u001b[32m[I 2021-11-30 13:19:17,128]\u001b[0m Trial 77 finished with value: 0.02772 and parameters: {'alpha': 562}. Best is trial 29 with value: 0.02772.\u001b[0m\n",
      "\u001b[32m[I 2021-11-30 13:19:17,832]\u001b[0m Trial 78 finished with value: 0.0302 and parameters: {'alpha': 9916}. Best is trial 29 with value: 0.02772.\u001b[0m\n",
      "\u001b[32m[I 2021-11-30 13:19:18,587]\u001b[0m Trial 79 finished with value: 0.0282 and parameters: {'alpha': 2348}. Best is trial 29 with value: 0.02772.\u001b[0m\n",
      "\u001b[32m[I 2021-11-30 13:19:19,286]\u001b[0m Trial 80 finished with value: 0.02785 and parameters: {'alpha': 1259}. Best is trial 29 with value: 0.02772.\u001b[0m\n",
      "\u001b[32m[I 2021-11-30 13:19:19,984]\u001b[0m Trial 81 finished with value: 0.02774 and parameters: {'alpha': 745}. Best is trial 29 with value: 0.02772.\u001b[0m\n",
      "\u001b[32m[I 2021-11-30 13:19:20,687]\u001b[0m Trial 82 finished with value: 0.02773 and parameters: {'alpha': 492}. Best is trial 29 with value: 0.02772.\u001b[0m\n",
      "\u001b[32m[I 2021-11-30 13:19:21,393]\u001b[0m Trial 83 finished with value: 0.02774 and parameters: {'alpha': 780}. Best is trial 29 with value: 0.02772.\u001b[0m\n",
      "\u001b[32m[I 2021-11-30 13:19:22,101]\u001b[0m Trial 84 finished with value: 0.02781 and parameters: {'alpha': 221}. Best is trial 29 with value: 0.02772.\u001b[0m\n",
      "\u001b[32m[I 2021-11-30 13:19:22,802]\u001b[0m Trial 85 finished with value: 0.02778 and parameters: {'alpha': 996}. Best is trial 29 with value: 0.02772.\u001b[0m\n",
      "\u001b[32m[I 2021-11-30 13:19:23,502]\u001b[0m Trial 86 finished with value: 0.02801 and parameters: {'alpha': 1780}. Best is trial 29 with value: 0.02772.\u001b[0m\n",
      "\u001b[32m[I 2021-11-30 13:19:24,218]\u001b[0m Trial 87 finished with value: 0.02827 and parameters: {'alpha': 6}. Best is trial 29 with value: 0.02772.\u001b[0m\n",
      "\u001b[32m[I 2021-11-30 13:19:24,913]\u001b[0m Trial 88 finished with value: 0.02773 and parameters: {'alpha': 506}. Best is trial 29 with value: 0.02772.\u001b[0m\n",
      "\u001b[32m[I 2021-11-30 13:19:25,609]\u001b[0m Trial 89 finished with value: 0.02986 and parameters: {'alpha': 8132}. Best is trial 29 with value: 0.02772.\u001b[0m\n",
      "\u001b[32m[I 2021-11-30 13:19:26,303]\u001b[0m Trial 90 finished with value: 0.02934 and parameters: {'alpha': 5970}. Best is trial 29 with value: 0.02772.\u001b[0m\n",
      "\u001b[32m[I 2021-11-30 13:19:26,999]\u001b[0m Trial 91 finished with value: 0.02773 and parameters: {'alpha': 496}. Best is trial 29 with value: 0.02772.\u001b[0m\n",
      "\u001b[32m[I 2021-11-30 13:19:27,704]\u001b[0m Trial 92 finished with value: 0.02772 and parameters: {'alpha': 613}. Best is trial 29 with value: 0.02772.\u001b[0m\n",
      "\u001b[32m[I 2021-11-30 13:19:28,403]\u001b[0m Trial 93 finished with value: 0.02786 and parameters: {'alpha': 1300}. Best is trial 29 with value: 0.02772.\u001b[0m\n",
      "\u001b[32m[I 2021-11-30 13:19:29,103]\u001b[0m Trial 94 finished with value: 0.02783 and parameters: {'alpha': 206}. Best is trial 29 with value: 0.02772.\u001b[0m\n",
      "\u001b[32m[I 2021-11-30 13:19:29,799]\u001b[0m Trial 95 finished with value: 0.02781 and parameters: {'alpha': 1115}. Best is trial 29 with value: 0.02772.\u001b[0m\n",
      "\u001b[32m[I 2021-11-30 13:19:30,496]\u001b[0m Trial 96 finished with value: 0.02776 and parameters: {'alpha': 890}. Best is trial 29 with value: 0.02772.\u001b[0m\n",
      "\u001b[32m[I 2021-11-30 13:19:31,195]\u001b[0m Trial 97 finished with value: 0.02772 and parameters: {'alpha': 605}. Best is trial 29 with value: 0.02772.\u001b[0m\n",
      "\u001b[32m[I 2021-11-30 13:19:31,891]\u001b[0m Trial 98 finished with value: 0.02794 and parameters: {'alpha': 1579}. Best is trial 29 with value: 0.02772.\u001b[0m\n",
      "\u001b[32m[I 2021-11-30 13:19:32,589]\u001b[0m Trial 99 finished with value: 0.02877 and parameters: {'alpha': 4031}. Best is trial 29 with value: 0.02772.\u001b[0m\n",
      "\u001b[32m[I 2021-11-30 13:19:33,294]\u001b[0m Trial 100 finished with value: 0.02774 and parameters: {'alpha': 738}. Best is trial 29 with value: 0.02772.\u001b[0m\n",
      "\u001b[32m[I 2021-11-30 13:19:34,054]\u001b[0m Trial 101 finished with value: 0.02784 and parameters: {'alpha': 188}. Best is trial 29 with value: 0.02772.\u001b[0m\n",
      "\u001b[32m[I 2021-11-30 13:19:34,855]\u001b[0m Trial 102 finished with value: 0.02772 and parameters: {'alpha': 602}. Best is trial 29 with value: 0.02772.\u001b[0m\n",
      "\u001b[32m[I 2021-11-30 13:19:35,662]\u001b[0m Trial 103 finished with value: 0.02772 and parameters: {'alpha': 604}. Best is trial 29 with value: 0.02772.\u001b[0m\n",
      "\u001b[32m[I 2021-11-30 13:19:36,370]\u001b[0m Trial 104 finished with value: 0.02776 and parameters: {'alpha': 871}. Best is trial 29 with value: 0.02772.\u001b[0m\n",
      "\u001b[32m[I 2021-11-30 13:19:37,074]\u001b[0m Trial 105 finished with value: 0.02772 and parameters: {'alpha': 541}. Best is trial 29 with value: 0.02772.\u001b[0m\n",
      "\u001b[32m[I 2021-11-30 13:19:37,779]\u001b[0m Trial 106 finished with value: 0.02782 and parameters: {'alpha': 1179}. Best is trial 29 with value: 0.02772.\u001b[0m\n",
      "\u001b[32m[I 2021-11-30 13:19:38,480]\u001b[0m Trial 107 finished with value: 0.02778 and parameters: {'alpha': 266}. Best is trial 29 with value: 0.02772.\u001b[0m\n",
      "\u001b[32m[I 2021-11-30 13:19:39,178]\u001b[0m Trial 108 finished with value: 0.02787 and parameters: {'alpha': 1329}. Best is trial 29 with value: 0.02772.\u001b[0m\n",
      "\u001b[32m[I 2021-11-30 13:19:39,884]\u001b[0m Trial 109 finished with value: 0.02778 and parameters: {'alpha': 988}. Best is trial 29 with value: 0.02772.\u001b[0m\n"
     ]
    },
    {
     "name": "stderr",
     "output_type": "stream",
     "text": [
      "\u001b[32m[I 2021-11-30 13:19:40,581]\u001b[0m Trial 110 finished with value: 0.02789 and parameters: {'alpha': 144}. Best is trial 29 with value: 0.02772.\u001b[0m\n",
      "\u001b[32m[I 2021-11-30 13:19:41,278]\u001b[0m Trial 111 finished with value: 0.02772 and parameters: {'alpha': 581}. Best is trial 29 with value: 0.02772.\u001b[0m\n",
      "\u001b[32m[I 2021-11-30 13:19:41,976]\u001b[0m Trial 112 finished with value: 0.02772 and parameters: {'alpha': 523}. Best is trial 29 with value: 0.02772.\u001b[0m\n",
      "\u001b[32m[I 2021-11-30 13:19:42,678]\u001b[0m Trial 113 finished with value: 0.02775 and parameters: {'alpha': 368}. Best is trial 29 with value: 0.02772.\u001b[0m\n",
      "\u001b[32m[I 2021-11-30 13:19:43,378]\u001b[0m Trial 114 finished with value: 0.02775 and parameters: {'alpha': 825}. Best is trial 29 with value: 0.02772.\u001b[0m\n",
      "\u001b[32m[I 2021-11-30 13:19:44,078]\u001b[0m Trial 115 finished with value: 0.02772 and parameters: {'alpha': 616}. Best is trial 29 with value: 0.02772.\u001b[0m\n",
      "\u001b[32m[I 2021-11-30 13:19:44,783]\u001b[0m Trial 116 finished with value: 0.02772 and parameters: {'alpha': 531}. Best is trial 29 with value: 0.02772.\u001b[0m\n",
      "\u001b[32m[I 2021-11-30 13:19:45,498]\u001b[0m Trial 117 finished with value: 0.02778 and parameters: {'alpha': 985}. Best is trial 29 with value: 0.02772.\u001b[0m\n",
      "\u001b[32m[I 2021-11-30 13:19:46,199]\u001b[0m Trial 118 finished with value: 0.02774 and parameters: {'alpha': 369}. Best is trial 29 with value: 0.02772.\u001b[0m\n",
      "\u001b[32m[I 2021-11-30 13:19:46,901]\u001b[0m Trial 119 finished with value: 0.02789 and parameters: {'alpha': 1409}. Best is trial 29 with value: 0.02772.\u001b[0m\n",
      "\u001b[32m[I 2021-11-30 13:19:47,603]\u001b[0m Trial 120 finished with value: 0.02816 and parameters: {'alpha': 30}. Best is trial 29 with value: 0.02772.\u001b[0m\n",
      "\u001b[32m[I 2021-11-30 13:19:48,300]\u001b[0m Trial 121 finished with value: 0.02773 and parameters: {'alpha': 664}. Best is trial 29 with value: 0.02772.\u001b[0m\n",
      "\u001b[32m[I 2021-11-30 13:19:49,095]\u001b[0m Trial 122 finished with value: 0.02781 and parameters: {'alpha': 1135}. Best is trial 29 with value: 0.02772.\u001b[0m\n",
      "\u001b[32m[I 2021-11-30 13:19:49,798]\u001b[0m Trial 123 finished with value: 0.02773 and parameters: {'alpha': 709}. Best is trial 29 with value: 0.02772.\u001b[0m\n",
      "\u001b[32m[I 2021-11-30 13:19:50,498]\u001b[0m Trial 124 finished with value: 0.02777 and parameters: {'alpha': 299}. Best is trial 29 with value: 0.02772.\u001b[0m\n",
      "\u001b[32m[I 2021-11-30 13:19:51,198]\u001b[0m Trial 125 finished with value: 0.02776 and parameters: {'alpha': 895}. Best is trial 29 with value: 0.02772.\u001b[0m\n",
      "\u001b[32m[I 2021-11-30 13:19:51,893]\u001b[0m Trial 126 finished with value: 0.02773 and parameters: {'alpha': 500}. Best is trial 29 with value: 0.02772.\u001b[0m\n",
      "\u001b[32m[I 2021-11-30 13:19:52,591]\u001b[0m Trial 127 finished with value: 0.02772 and parameters: {'alpha': 606}. Best is trial 29 with value: 0.02772.\u001b[0m\n",
      "\u001b[32m[I 2021-11-30 13:19:53,287]\u001b[0m Trial 128 finished with value: 0.02785 and parameters: {'alpha': 183}. Best is trial 29 with value: 0.02772.\u001b[0m\n",
      "\u001b[32m[I 2021-11-30 13:19:53,983]\u001b[0m Trial 129 finished with value: 0.0278 and parameters: {'alpha': 1100}. Best is trial 29 with value: 0.02772.\u001b[0m\n",
      "\u001b[32m[I 2021-11-30 13:19:54,681]\u001b[0m Trial 130 finished with value: 0.02797 and parameters: {'alpha': 1661}. Best is trial 29 with value: 0.02772.\u001b[0m\n",
      "\u001b[32m[I 2021-11-30 13:19:55,377]\u001b[0m Trial 131 finished with value: 0.02773 and parameters: {'alpha': 634}. Best is trial 29 with value: 0.02772.\u001b[0m\n",
      "\u001b[32m[I 2021-11-30 13:19:56,077]\u001b[0m Trial 132 finished with value: 0.02773 and parameters: {'alpha': 454}. Best is trial 29 with value: 0.02772.\u001b[0m\n",
      "\u001b[32m[I 2021-11-30 13:19:56,776]\u001b[0m Trial 133 finished with value: 0.02775 and parameters: {'alpha': 841}. Best is trial 29 with value: 0.02772.\u001b[0m\n",
      "\u001b[32m[I 2021-11-30 13:19:57,479]\u001b[0m Trial 134 finished with value: 0.02911 and parameters: {'alpha': 5123}. Best is trial 29 with value: 0.02772.\u001b[0m\n",
      "\u001b[32m[I 2021-11-30 13:19:58,184]\u001b[0m Trial 135 finished with value: 0.02775 and parameters: {'alpha': 363}. Best is trial 29 with value: 0.02772.\u001b[0m\n",
      "\u001b[32m[I 2021-11-30 13:19:58,882]\u001b[0m Trial 136 finished with value: 0.02805 and parameters: {'alpha': 62}. Best is trial 29 with value: 0.02772.\u001b[0m\n",
      "\u001b[32m[I 2021-11-30 13:19:59,591]\u001b[0m Trial 137 finished with value: 0.02772 and parameters: {'alpha': 574}. Best is trial 29 with value: 0.02772.\u001b[0m\n",
      "\u001b[32m[I 2021-11-30 13:20:00,295]\u001b[0m Trial 138 finished with value: 0.02775 and parameters: {'alpha': 823}. Best is trial 29 with value: 0.02772.\u001b[0m\n",
      "\u001b[32m[I 2021-11-30 13:20:00,993]\u001b[0m Trial 139 finished with value: 0.02786 and parameters: {'alpha': 1297}. Best is trial 29 with value: 0.02772.\u001b[0m\n",
      "\u001b[32m[I 2021-11-30 13:20:01,697]\u001b[0m Trial 140 finished with value: 0.02953 and parameters: {'alpha': 6705}. Best is trial 29 with value: 0.02772.\u001b[0m\n",
      "\u001b[32m[I 2021-11-30 13:20:02,396]\u001b[0m Trial 141 finished with value: 0.02772 and parameters: {'alpha': 572}. Best is trial 29 with value: 0.02772.\u001b[0m\n",
      "\u001b[32m[I 2021-11-30 13:20:03,099]\u001b[0m Trial 142 finished with value: 0.02778 and parameters: {'alpha': 278}. Best is trial 29 with value: 0.02772.\u001b[0m\n",
      "\u001b[32m[I 2021-11-30 13:20:03,791]\u001b[0m Trial 143 finished with value: 0.02778 and parameters: {'alpha': 993}. Best is trial 29 with value: 0.02772.\u001b[0m\n",
      "\u001b[32m[I 2021-11-30 13:20:04,487]\u001b[0m Trial 144 finished with value: 0.02773 and parameters: {'alpha': 664}. Best is trial 29 with value: 0.02772.\u001b[0m\n",
      "\u001b[32m[I 2021-11-30 13:20:05,187]\u001b[0m Trial 145 finished with value: 0.02828 and parameters: {'alpha': 5}. Best is trial 29 with value: 0.02772.\u001b[0m\n",
      "\u001b[32m[I 2021-11-30 13:20:05,881]\u001b[0m Trial 146 finished with value: 0.02774 and parameters: {'alpha': 411}. Best is trial 29 with value: 0.02772.\u001b[0m\n",
      "\u001b[32m[I 2021-11-30 13:20:06,580]\u001b[0m Trial 147 finished with value: 0.02772 and parameters: {'alpha': 563}. Best is trial 29 with value: 0.02772.\u001b[0m\n",
      "\u001b[32m[I 2021-11-30 13:20:07,284]\u001b[0m Trial 148 finished with value: 0.02781 and parameters: {'alpha': 1132}. Best is trial 29 with value: 0.02772.\u001b[0m\n",
      "\u001b[32m[I 2021-11-30 13:20:07,979]\u001b[0m Trial 149 finished with value: 0.02774 and parameters: {'alpha': 791}. Best is trial 29 with value: 0.02772.\u001b[0m\n",
      "\u001b[32m[I 2021-11-30 13:20:08,681]\u001b[0m Trial 150 finished with value: 0.02781 and parameters: {'alpha': 227}. Best is trial 29 with value: 0.02772.\u001b[0m\n",
      "\u001b[32m[I 2021-11-30 13:20:09,393]\u001b[0m Trial 151 finished with value: 0.02773 and parameters: {'alpha': 653}. Best is trial 29 with value: 0.02772.\u001b[0m\n",
      "\u001b[32m[I 2021-11-30 13:20:10,228]\u001b[0m Trial 152 finished with value: 0.02773 and parameters: {'alpha': 497}. Best is trial 29 with value: 0.02772.\u001b[0m\n",
      "\u001b[32m[I 2021-11-30 13:20:10,959]\u001b[0m Trial 153 finished with value: 0.02773 and parameters: {'alpha': 479}. Best is trial 29 with value: 0.02772.\u001b[0m\n",
      "\u001b[32m[I 2021-11-30 13:20:11,657]\u001b[0m Trial 154 finished with value: 0.02777 and parameters: {'alpha': 970}. Best is trial 29 with value: 0.02772.\u001b[0m\n",
      "\u001b[32m[I 2021-11-30 13:20:12,353]\u001b[0m Trial 155 finished with value: 0.02857 and parameters: {'alpha': 3412}. Best is trial 29 with value: 0.02772.\u001b[0m\n",
      "\u001b[32m[I 2021-11-30 13:20:13,050]\u001b[0m Trial 156 finished with value: 0.02773 and parameters: {'alpha': 617}. Best is trial 29 with value: 0.02772.\u001b[0m\n",
      "\u001b[32m[I 2021-11-30 13:20:13,763]\u001b[0m Trial 157 finished with value: 0.02775 and parameters: {'alpha': 830}. Best is trial 29 with value: 0.02772.\u001b[0m\n",
      "\u001b[32m[I 2021-11-30 13:20:14,461]\u001b[0m Trial 158 finished with value: 0.02778 and parameters: {'alpha': 266}. Best is trial 29 with value: 0.02772.\u001b[0m\n",
      "\u001b[32m[I 2021-11-30 13:20:15,159]\u001b[0m Trial 159 finished with value: 0.02772 and parameters: {'alpha': 613}. Best is trial 29 with value: 0.02772.\u001b[0m\n",
      "\u001b[32m[I 2021-11-30 13:20:15,862]\u001b[0m Trial 160 finished with value: 0.02781 and parameters: {'alpha': 1117}. Best is trial 29 with value: 0.02772.\u001b[0m\n",
      "\u001b[32m[I 2021-11-30 13:20:16,560]\u001b[0m Trial 161 finished with value: 0.02773 and parameters: {'alpha': 470}. Best is trial 29 with value: 0.02772.\u001b[0m\n",
      "\u001b[32m[I 2021-11-30 13:20:17,259]\u001b[0m Trial 162 finished with value: 0.02784 and parameters: {'alpha': 191}. Best is trial 29 with value: 0.02772.\u001b[0m\n",
      "\u001b[32m[I 2021-11-30 13:20:17,963]\u001b[0m Trial 163 finished with value: 0.02776 and parameters: {'alpha': 876}. Best is trial 29 with value: 0.02772.\u001b[0m\n",
      "\u001b[32m[I 2021-11-30 13:20:18,659]\u001b[0m Trial 164 finished with value: 0.02772 and parameters: {'alpha': 595}. Best is trial 29 with value: 0.02772.\u001b[0m\n"
     ]
    },
    {
     "name": "stderr",
     "output_type": "stream",
     "text": [
      "\u001b[32m[I 2021-11-30 13:20:19,393]\u001b[0m Trial 165 finished with value: 0.02774 and parameters: {'alpha': 397}. Best is trial 29 with value: 0.02772.\u001b[0m\n",
      "\u001b[32m[I 2021-11-30 13:20:20,101]\u001b[0m Trial 166 finished with value: 0.02774 and parameters: {'alpha': 751}. Best is trial 29 with value: 0.02772.\u001b[0m\n",
      "\u001b[32m[I 2021-11-30 13:20:20,798]\u001b[0m Trial 167 finished with value: 0.02891 and parameters: {'alpha': 4487}. Best is trial 29 with value: 0.02772.\u001b[0m\n",
      "\u001b[32m[I 2021-11-30 13:20:21,494]\u001b[0m Trial 168 finished with value: 0.03003 and parameters: {'alpha': 8997}. Best is trial 29 with value: 0.02772.\u001b[0m\n",
      "\u001b[32m[I 2021-11-30 13:20:22,190]\u001b[0m Trial 169 finished with value: 0.02788 and parameters: {'alpha': 1392}. Best is trial 29 with value: 0.02772.\u001b[0m\n",
      "\u001b[32m[I 2021-11-30 13:20:22,889]\u001b[0m Trial 170 finished with value: 0.02783 and parameters: {'alpha': 203}. Best is trial 29 with value: 0.02772.\u001b[0m\n",
      "\u001b[32m[I 2021-11-30 13:20:23,666]\u001b[0m Trial 171 finished with value: 0.02772 and parameters: {'alpha': 550}. Best is trial 29 with value: 0.02772.\u001b[0m\n",
      "\u001b[32m[I 2021-11-30 13:20:24,425]\u001b[0m Trial 172 finished with value: 0.02838 and parameters: {'alpha': 2865}. Best is trial 29 with value: 0.02772.\u001b[0m\n",
      "\u001b[32m[I 2021-11-30 13:20:25,182]\u001b[0m Trial 173 finished with value: 0.02773 and parameters: {'alpha': 660}. Best is trial 29 with value: 0.02772.\u001b[0m\n",
      "\u001b[32m[I 2021-11-30 13:20:25,884]\u001b[0m Trial 174 finished with value: 0.02776 and parameters: {'alpha': 893}. Best is trial 29 with value: 0.02772.\u001b[0m\n",
      "\u001b[32m[I 2021-11-30 13:20:26,585]\u001b[0m Trial 175 finished with value: 0.02774 and parameters: {'alpha': 413}. Best is trial 29 with value: 0.02772.\u001b[0m\n",
      "\u001b[32m[I 2021-11-30 13:20:27,286]\u001b[0m Trial 176 finished with value: 0.02779 and parameters: {'alpha': 1054}. Best is trial 29 with value: 0.02772.\u001b[0m\n",
      "\u001b[32m[I 2021-11-30 13:20:27,988]\u001b[0m Trial 177 finished with value: 0.02776 and parameters: {'alpha': 332}. Best is trial 29 with value: 0.02772.\u001b[0m\n",
      "\u001b[32m[I 2021-11-30 13:20:28,691]\u001b[0m Trial 178 finished with value: 0.02826 and parameters: {'alpha': 8}. Best is trial 29 with value: 0.02772.\u001b[0m\n",
      "\u001b[32m[I 2021-11-30 13:20:29,391]\u001b[0m Trial 179 finished with value: 0.02774 and parameters: {'alpha': 793}. Best is trial 29 with value: 0.02772.\u001b[0m\n",
      "\u001b[32m[I 2021-11-30 13:20:30,205]\u001b[0m Trial 180 finished with value: 0.02782 and parameters: {'alpha': 1158}. Best is trial 29 with value: 0.02772.\u001b[0m\n",
      "\u001b[32m[I 2021-11-30 13:20:31,405]\u001b[0m Trial 181 finished with value: 0.02772 and parameters: {'alpha': 583}. Best is trial 29 with value: 0.02772.\u001b[0m\n",
      "\u001b[32m[I 2021-11-30 13:20:32,395]\u001b[0m Trial 182 finished with value: 0.02772 and parameters: {'alpha': 529}. Best is trial 29 with value: 0.02772.\u001b[0m\n",
      "\u001b[32m[I 2021-11-30 13:20:33,263]\u001b[0m Trial 183 finished with value: 0.02772 and parameters: {'alpha': 564}. Best is trial 29 with value: 0.02772.\u001b[0m\n",
      "\u001b[32m[I 2021-11-30 13:20:34,067]\u001b[0m Trial 184 finished with value: 0.02776 and parameters: {'alpha': 317}. Best is trial 29 with value: 0.02772.\u001b[0m\n",
      "\u001b[32m[I 2021-11-30 13:20:35,205]\u001b[0m Trial 185 finished with value: 0.02774 and parameters: {'alpha': 784}. Best is trial 29 with value: 0.02772.\u001b[0m\n",
      "\u001b[32m[I 2021-11-30 13:20:36,210]\u001b[0m Trial 186 finished with value: 0.02789 and parameters: {'alpha': 146}. Best is trial 29 with value: 0.02772.\u001b[0m\n",
      "\u001b[32m[I 2021-11-30 13:20:36,929]\u001b[0m Trial 187 finished with value: 0.02772 and parameters: {'alpha': 611}. Best is trial 29 with value: 0.02772.\u001b[0m\n",
      "\u001b[32m[I 2021-11-30 13:20:37,837]\u001b[0m Trial 188 finished with value: 0.02777 and parameters: {'alpha': 933}. Best is trial 29 with value: 0.02772.\u001b[0m\n",
      "\u001b[32m[I 2021-11-30 13:20:38,599]\u001b[0m Trial 189 finished with value: 0.02773 and parameters: {'alpha': 726}. Best is trial 29 with value: 0.02772.\u001b[0m\n",
      "\u001b[32m[I 2021-11-30 13:20:39,306]\u001b[0m Trial 190 finished with value: 0.02773 and parameters: {'alpha': 475}. Best is trial 29 with value: 0.02772.\u001b[0m\n",
      "\u001b[32m[I 2021-11-30 13:20:40,008]\u001b[0m Trial 191 finished with value: 0.02772 and parameters: {'alpha': 588}. Best is trial 29 with value: 0.02772.\u001b[0m\n",
      "\u001b[32m[I 2021-11-30 13:20:40,812]\u001b[0m Trial 192 finished with value: 0.02776 and parameters: {'alpha': 324}. Best is trial 29 with value: 0.02772.\u001b[0m\n",
      "\u001b[32m[I 2021-11-30 13:20:41,590]\u001b[0m Trial 193 finished with value: 0.02773 and parameters: {'alpha': 644}. Best is trial 29 with value: 0.02772.\u001b[0m\n",
      "\u001b[32m[I 2021-11-30 13:20:42,399]\u001b[0m Trial 194 finished with value: 0.02777 and parameters: {'alpha': 955}. Best is trial 29 with value: 0.02772.\u001b[0m\n",
      "\u001b[32m[I 2021-11-30 13:20:43,114]\u001b[0m Trial 195 finished with value: 0.02774 and parameters: {'alpha': 402}. Best is trial 29 with value: 0.02772.\u001b[0m\n",
      "\u001b[32m[I 2021-11-30 13:20:43,824]\u001b[0m Trial 196 finished with value: 0.02773 and parameters: {'alpha': 681}. Best is trial 29 with value: 0.02772.\u001b[0m\n",
      "\u001b[32m[I 2021-11-30 13:20:44,528]\u001b[0m Trial 197 finished with value: 0.02783 and parameters: {'alpha': 197}. Best is trial 29 with value: 0.02772.\u001b[0m\n",
      "\u001b[32m[I 2021-11-30 13:20:45,306]\u001b[0m Trial 198 finished with value: 0.02923 and parameters: {'alpha': 5549}. Best is trial 29 with value: 0.02772.\u001b[0m\n",
      "\u001b[32m[I 2021-11-30 13:20:46,010]\u001b[0m Trial 199 finished with value: 0.0298 and parameters: {'alpha': 7860}. Best is trial 29 with value: 0.02772.\u001b[0m\n",
      "\u001b[32m[I 2021-11-30 13:20:46,755]\u001b[0m Trial 200 finished with value: 0.02772 and parameters: {'alpha': 583}. Best is trial 29 with value: 0.02772.\u001b[0m\n",
      "\u001b[32m[I 2021-11-30 13:20:47,461]\u001b[0m Trial 201 finished with value: 0.02774 and parameters: {'alpha': 804}. Best is trial 29 with value: 0.02772.\u001b[0m\n",
      "\u001b[32m[I 2021-11-30 13:20:48,234]\u001b[0m Trial 202 finished with value: 0.02772 and parameters: {'alpha': 557}. Best is trial 29 with value: 0.02772.\u001b[0m\n",
      "\u001b[32m[I 2021-11-30 13:20:49,075]\u001b[0m Trial 203 finished with value: 0.02772 and parameters: {'alpha': 535}. Best is trial 29 with value: 0.02772.\u001b[0m\n",
      "\u001b[32m[I 2021-11-30 13:20:49,836]\u001b[0m Trial 204 finished with value: 0.02773 and parameters: {'alpha': 419}. Best is trial 29 with value: 0.02772.\u001b[0m\n",
      "\u001b[32m[I 2021-11-30 13:20:50,552]\u001b[0m Trial 205 finished with value: 0.02775 and parameters: {'alpha': 855}. Best is trial 29 with value: 0.02772.\u001b[0m\n",
      "\u001b[32m[I 2021-11-30 13:20:51,262]\u001b[0m Trial 206 finished with value: 0.02784 and parameters: {'alpha': 191}. Best is trial 29 with value: 0.02772.\u001b[0m\n",
      "\u001b[32m[I 2021-11-30 13:20:51,969]\u001b[0m Trial 207 finished with value: 0.02773 and parameters: {'alpha': 628}. Best is trial 29 with value: 0.02772.\u001b[0m\n",
      "\u001b[32m[I 2021-11-30 13:20:52,667]\u001b[0m Trial 208 finished with value: 0.0278 and parameters: {'alpha': 1072}. Best is trial 29 with value: 0.02772.\u001b[0m\n",
      "\u001b[32m[I 2021-11-30 13:20:53,371]\u001b[0m Trial 209 finished with value: 0.02773 and parameters: {'alpha': 494}. Best is trial 29 with value: 0.02772.\u001b[0m\n",
      "\u001b[32m[I 2021-11-30 13:20:54,128]\u001b[0m Trial 210 finished with value: 0.02777 and parameters: {'alpha': 307}. Best is trial 29 with value: 0.02772.\u001b[0m\n",
      "\u001b[32m[I 2021-11-30 13:20:54,826]\u001b[0m Trial 211 finished with value: 0.02773 and parameters: {'alpha': 730}. Best is trial 29 with value: 0.02772.\u001b[0m\n",
      "\u001b[32m[I 2021-11-30 13:20:55,530]\u001b[0m Trial 212 finished with value: 0.02776 and parameters: {'alpha': 875}. Best is trial 29 with value: 0.02772.\u001b[0m\n",
      "\u001b[32m[I 2021-11-30 13:20:56,229]\u001b[0m Trial 213 finished with value: 0.02772 and parameters: {'alpha': 510}. Best is trial 29 with value: 0.02772.\u001b[0m\n",
      "\u001b[32m[I 2021-11-30 13:20:56,937]\u001b[0m Trial 214 finished with value: 0.02773 and parameters: {'alpha': 457}. Best is trial 29 with value: 0.02772.\u001b[0m\n",
      "\u001b[32m[I 2021-11-30 13:20:57,642]\u001b[0m Trial 215 finished with value: 0.02773 and parameters: {'alpha': 641}. Best is trial 29 with value: 0.02772.\u001b[0m\n",
      "\u001b[32m[I 2021-11-30 13:20:58,340]\u001b[0m Trial 216 finished with value: 0.02822 and parameters: {'alpha': 16}. Best is trial 29 with value: 0.02772.\u001b[0m\n",
      "\u001b[32m[I 2021-11-30 13:20:59,048]\u001b[0m Trial 217 finished with value: 0.02775 and parameters: {'alpha': 367}. Best is trial 29 with value: 0.02772.\u001b[0m\n",
      "\u001b[32m[I 2021-11-30 13:20:59,746]\u001b[0m Trial 218 finished with value: 0.02772 and parameters: {'alpha': 580}. Best is trial 29 with value: 0.02772.\u001b[0m\n",
      "\u001b[32m[I 2021-11-30 13:21:00,507]\u001b[0m Trial 219 finished with value: 0.02778 and parameters: {'alpha': 978}. Best is trial 29 with value: 0.02772.\u001b[0m\n"
     ]
    },
    {
     "name": "stderr",
     "output_type": "stream",
     "text": [
      "\u001b[32m[I 2021-11-30 13:21:01,215]\u001b[0m Trial 220 finished with value: 0.02784 and parameters: {'alpha': 1229}. Best is trial 29 with value: 0.02772.\u001b[0m\n",
      "\u001b[32m[I 2021-11-30 13:21:01,922]\u001b[0m Trial 221 finished with value: 0.02772 and parameters: {'alpha': 557}. Best is trial 29 with value: 0.02772.\u001b[0m\n",
      "\u001b[32m[I 2021-11-30 13:21:02,632]\u001b[0m Trial 222 finished with value: 0.02773 and parameters: {'alpha': 671}. Best is trial 29 with value: 0.02772.\u001b[0m\n",
      "\u001b[32m[I 2021-11-30 13:21:03,339]\u001b[0m Trial 223 finished with value: 0.0278 and parameters: {'alpha': 241}. Best is trial 29 with value: 0.02772.\u001b[0m\n",
      "\u001b[32m[I 2021-11-30 13:21:04,048]\u001b[0m Trial 224 finished with value: 0.02774 and parameters: {'alpha': 755}. Best is trial 29 with value: 0.02772.\u001b[0m\n",
      "\u001b[32m[I 2021-11-30 13:21:04,757]\u001b[0m Trial 225 finished with value: 0.02773 and parameters: {'alpha': 458}. Best is trial 29 with value: 0.02772.\u001b[0m\n",
      "\u001b[32m[I 2021-11-30 13:21:05,463]\u001b[0m Trial 226 finished with value: 0.02775 and parameters: {'alpha': 362}. Best is trial 29 with value: 0.02772.\u001b[0m\n",
      "\u001b[32m[I 2021-11-30 13:21:06,173]\u001b[0m Trial 227 finished with value: 0.02775 and parameters: {'alpha': 832}. Best is trial 29 with value: 0.02772.\u001b[0m\n",
      "\u001b[32m[I 2021-11-30 13:21:06,881]\u001b[0m Trial 228 finished with value: 0.02784 and parameters: {'alpha': 189}. Best is trial 29 with value: 0.02772.\u001b[0m\n",
      "\u001b[32m[I 2021-11-30 13:21:07,589]\u001b[0m Trial 229 finished with value: 0.02773 and parameters: {'alpha': 635}. Best is trial 29 with value: 0.02772.\u001b[0m\n",
      "\u001b[32m[I 2021-11-30 13:21:08,299]\u001b[0m Trial 230 finished with value: 0.02776 and parameters: {'alpha': 886}. Best is trial 29 with value: 0.02772.\u001b[0m\n",
      "\u001b[32m[I 2021-11-30 13:21:09,056]\u001b[0m Trial 231 finished with value: 0.02772 and parameters: {'alpha': 581}. Best is trial 29 with value: 0.02772.\u001b[0m\n",
      "\u001b[32m[I 2021-11-30 13:21:09,768]\u001b[0m Trial 232 finished with value: 0.02773 and parameters: {'alpha': 433}. Best is trial 29 with value: 0.02772.\u001b[0m\n",
      "\u001b[32m[I 2021-11-30 13:21:10,469]\u001b[0m Trial 233 finished with value: 0.02772 and parameters: {'alpha': 582}. Best is trial 29 with value: 0.02772.\u001b[0m\n",
      "\u001b[32m[I 2021-11-30 13:21:11,172]\u001b[0m Trial 234 finished with value: 0.02772 and parameters: {'alpha': 511}. Best is trial 29 with value: 0.02772.\u001b[0m\n",
      "\u001b[32m[I 2021-11-30 13:21:11,879]\u001b[0m Trial 235 finished with value: 0.02777 and parameters: {'alpha': 305}. Best is trial 29 with value: 0.02772.\u001b[0m\n",
      "\u001b[32m[I 2021-11-30 13:21:12,593]\u001b[0m Trial 236 finished with value: 0.02773 and parameters: {'alpha': 707}. Best is trial 29 with value: 0.02772.\u001b[0m\n",
      "\u001b[32m[I 2021-11-30 13:21:13,301]\u001b[0m Trial 237 finished with value: 0.02772 and parameters: {'alpha': 556}. Best is trial 29 with value: 0.02772.\u001b[0m\n",
      "\u001b[32m[I 2021-11-30 13:21:14,006]\u001b[0m Trial 238 finished with value: 0.02774 and parameters: {'alpha': 779}. Best is trial 29 with value: 0.02772.\u001b[0m\n",
      "\u001b[32m[I 2021-11-30 13:21:14,713]\u001b[0m Trial 239 finished with value: 0.02773 and parameters: {'alpha': 485}. Best is trial 29 with value: 0.02772.\u001b[0m\n",
      "\u001b[32m[I 2021-11-30 13:21:15,416]\u001b[0m Trial 240 finished with value: 0.02778 and parameters: {'alpha': 1009}. Best is trial 29 with value: 0.02772.\u001b[0m\n",
      "\u001b[32m[I 2021-11-30 13:21:16,124]\u001b[0m Trial 241 finished with value: 0.02773 and parameters: {'alpha': 715}. Best is trial 29 with value: 0.02772.\u001b[0m\n",
      "\u001b[32m[I 2021-11-30 13:21:16,831]\u001b[0m Trial 242 finished with value: 0.02783 and parameters: {'alpha': 206}. Best is trial 29 with value: 0.02772.\u001b[0m\n",
      "\u001b[32m[I 2021-11-30 13:21:17,543]\u001b[0m Trial 243 finished with value: 0.02772 and parameters: {'alpha': 533}. Best is trial 29 with value: 0.02772.\u001b[0m\n",
      "\u001b[32m[I 2021-11-30 13:21:18,249]\u001b[0m Trial 244 finished with value: 0.02778 and parameters: {'alpha': 282}. Best is trial 29 with value: 0.02772.\u001b[0m\n",
      "\u001b[32m[I 2021-11-30 13:21:18,947]\u001b[0m Trial 245 finished with value: 0.02773 and parameters: {'alpha': 468}. Best is trial 29 with value: 0.02772.\u001b[0m\n",
      "\u001b[32m[I 2021-11-30 13:21:19,645]\u001b[0m Trial 246 finished with value: 0.02772 and parameters: {'alpha': 539}. Best is trial 29 with value: 0.02772.\u001b[0m\n",
      "\u001b[32m[I 2021-11-30 13:21:20,352]\u001b[0m Trial 247 finished with value: 0.02774 and parameters: {'alpha': 757}. Best is trial 29 with value: 0.02772.\u001b[0m\n",
      "\u001b[32m[I 2021-11-30 13:21:21,051]\u001b[0m Trial 248 finished with value: 0.02776 and parameters: {'alpha': 871}. Best is trial 29 with value: 0.02772.\u001b[0m\n",
      "\u001b[32m[I 2021-11-30 13:21:21,754]\u001b[0m Trial 249 finished with value: 0.02775 and parameters: {'alpha': 347}. Best is trial 29 with value: 0.02772.\u001b[0m\n",
      "\u001b[32m[I 2021-11-30 13:21:22,458]\u001b[0m Trial 250 finished with value: 0.02794 and parameters: {'alpha': 109}. Best is trial 29 with value: 0.02772.\u001b[0m\n",
      "\u001b[32m[I 2021-11-30 13:21:23,158]\u001b[0m Trial 251 finished with value: 0.02772 and parameters: {'alpha': 592}. Best is trial 29 with value: 0.02772.\u001b[0m\n",
      "\u001b[32m[I 2021-11-30 13:21:23,865]\u001b[0m Trial 252 finished with value: 0.02778 and parameters: {'alpha': 1008}. Best is trial 29 with value: 0.02772.\u001b[0m\n",
      "\u001b[32m[I 2021-11-30 13:21:24,565]\u001b[0m Trial 253 finished with value: 0.02773 and parameters: {'alpha': 697}. Best is trial 29 with value: 0.02772.\u001b[0m\n",
      "\u001b[32m[I 2021-11-30 13:21:25,274]\u001b[0m Trial 254 finished with value: 0.02777 and parameters: {'alpha': 955}. Best is trial 29 with value: 0.02772.\u001b[0m\n",
      "\u001b[32m[I 2021-11-30 13:21:25,975]\u001b[0m Trial 255 finished with value: 0.02773 and parameters: {'alpha': 438}. Best is trial 29 with value: 0.02772.\u001b[0m\n",
      "\u001b[32m[I 2021-11-30 13:21:26,678]\u001b[0m Trial 256 finished with value: 0.02774 and parameters: {'alpha': 800}. Best is trial 29 with value: 0.02772.\u001b[0m\n",
      "\u001b[32m[I 2021-11-30 13:21:27,385]\u001b[0m Trial 257 finished with value: 0.02772 and parameters: {'alpha': 508}. Best is trial 29 with value: 0.02772.\u001b[0m\n",
      "\u001b[32m[I 2021-11-30 13:21:28,089]\u001b[0m Trial 258 finished with value: 0.02776 and parameters: {'alpha': 326}. Best is trial 29 with value: 0.02772.\u001b[0m\n",
      "\u001b[32m[I 2021-11-30 13:21:28,858]\u001b[0m Trial 259 finished with value: 0.02773 and parameters: {'alpha': 667}. Best is trial 29 with value: 0.02772.\u001b[0m\n",
      "\u001b[32m[I 2021-11-30 13:21:29,555]\u001b[0m Trial 260 finished with value: 0.02792 and parameters: {'alpha': 124}. Best is trial 29 with value: 0.02772.\u001b[0m\n",
      "\u001b[32m[I 2021-11-30 13:21:30,270]\u001b[0m Trial 261 finished with value: 0.02784 and parameters: {'alpha': 1222}. Best is trial 29 with value: 0.02772.\u001b[0m\n",
      "\u001b[32m[I 2021-11-30 13:21:30,973]\u001b[0m Trial 262 finished with value: 0.02775 and parameters: {'alpha': 344}. Best is trial 29 with value: 0.02772.\u001b[0m\n",
      "\u001b[32m[I 2021-11-30 13:21:31,669]\u001b[0m Trial 263 finished with value: 0.02773 and parameters: {'alpha': 643}. Best is trial 29 with value: 0.02772.\u001b[0m\n",
      "\u001b[32m[I 2021-11-30 13:21:32,366]\u001b[0m Trial 264 finished with value: 0.02774 and parameters: {'alpha': 801}. Best is trial 29 with value: 0.02772.\u001b[0m\n",
      "\u001b[32m[I 2021-11-30 13:21:33,119]\u001b[0m Trial 265 finished with value: 0.02772 and parameters: {'alpha': 507}. Best is trial 29 with value: 0.02772.\u001b[0m\n",
      "\u001b[32m[I 2021-11-30 13:21:33,821]\u001b[0m Trial 266 finished with value: 0.02782 and parameters: {'alpha': 210}. Best is trial 29 with value: 0.02772.\u001b[0m\n",
      "\u001b[32m[I 2021-11-30 13:21:34,526]\u001b[0m Trial 267 finished with value: 0.02773 and parameters: {'alpha': 446}. Best is trial 29 with value: 0.02772.\u001b[0m\n",
      "\u001b[32m[I 2021-11-30 13:21:35,229]\u001b[0m Trial 268 finished with value: 0.0283 and parameters: {'alpha': 1}. Best is trial 29 with value: 0.02772.\u001b[0m\n",
      "\u001b[32m[I 2021-11-30 13:21:35,995]\u001b[0m Trial 269 finished with value: 0.0278 and parameters: {'alpha': 1063}. Best is trial 29 with value: 0.02772.\u001b[0m\n",
      "\u001b[32m[I 2021-11-30 13:21:36,700]\u001b[0m Trial 270 finished with value: 0.02772 and parameters: {'alpha': 602}. Best is trial 29 with value: 0.02772.\u001b[0m\n",
      "\u001b[32m[I 2021-11-30 13:21:37,402]\u001b[0m Trial 271 finished with value: 0.02772 and parameters: {'alpha': 586}. Best is trial 29 with value: 0.02772.\u001b[0m\n",
      "\u001b[32m[I 2021-11-30 13:21:38,103]\u001b[0m Trial 272 finished with value: 0.02776 and parameters: {'alpha': 882}. Best is trial 29 with value: 0.02772.\u001b[0m\n",
      "\u001b[32m[I 2021-11-30 13:21:38,813]\u001b[0m Trial 273 finished with value: 0.02776 and parameters: {'alpha': 314}. Best is trial 29 with value: 0.02772.\u001b[0m\n",
      "\u001b[32m[I 2021-11-30 13:21:39,529]\u001b[0m Trial 274 finished with value: 0.02773 and parameters: {'alpha': 657}. Best is trial 29 with value: 0.02772.\u001b[0m\n"
     ]
    },
    {
     "name": "stderr",
     "output_type": "stream",
     "text": [
      "\u001b[32m[I 2021-11-30 13:21:40,229]\u001b[0m Trial 275 finished with value: 0.02775 and parameters: {'alpha': 831}. Best is trial 29 with value: 0.02772.\u001b[0m\n",
      "\u001b[32m[I 2021-11-30 13:21:40,936]\u001b[0m Trial 276 finished with value: 0.02773 and parameters: {'alpha': 429}. Best is trial 29 with value: 0.02772.\u001b[0m\n",
      "\u001b[32m[I 2021-11-30 13:21:41,638]\u001b[0m Trial 277 finished with value: 0.0278 and parameters: {'alpha': 1086}. Best is trial 29 with value: 0.02772.\u001b[0m\n",
      "\u001b[32m[I 2021-11-30 13:21:42,339]\u001b[0m Trial 278 finished with value: 0.02773 and parameters: {'alpha': 484}. Best is trial 29 with value: 0.02772.\u001b[0m\n",
      "\u001b[32m[I 2021-11-30 13:21:43,123]\u001b[0m Trial 279 finished with value: 0.02948 and parameters: {'alpha': 6481}. Best is trial 29 with value: 0.02772.\u001b[0m\n",
      "\u001b[32m[I 2021-11-30 13:21:43,880]\u001b[0m Trial 280 finished with value: 0.02868 and parameters: {'alpha': 3760}. Best is trial 29 with value: 0.02772.\u001b[0m\n",
      "\u001b[32m[I 2021-11-30 13:21:44,579]\u001b[0m Trial 281 finished with value: 0.02782 and parameters: {'alpha': 212}. Best is trial 29 with value: 0.02772.\u001b[0m\n",
      "\u001b[32m[I 2021-11-30 13:21:45,281]\u001b[0m Trial 282 finished with value: 0.02773 and parameters: {'alpha': 685}. Best is trial 29 with value: 0.02772.\u001b[0m\n",
      "\u001b[32m[I 2021-11-30 13:21:45,982]\u001b[0m Trial 283 finished with value: 0.02778 and parameters: {'alpha': 982}. Best is trial 29 with value: 0.02772.\u001b[0m\n",
      "\u001b[32m[I 2021-11-30 13:21:46,683]\u001b[0m Trial 284 finished with value: 0.02773 and parameters: {'alpha': 484}. Best is trial 29 with value: 0.02772.\u001b[0m\n",
      "\u001b[32m[I 2021-11-30 13:21:47,383]\u001b[0m Trial 285 finished with value: 0.02778 and parameters: {'alpha': 267}. Best is trial 29 with value: 0.02772.\u001b[0m\n",
      "\u001b[32m[I 2021-11-30 13:21:48,085]\u001b[0m Trial 286 finished with value: 0.02772 and parameters: {'alpha': 535}. Best is trial 29 with value: 0.02772.\u001b[0m\n",
      "\u001b[32m[I 2021-11-30 13:21:48,784]\u001b[0m Trial 287 finished with value: 0.02775 and parameters: {'alpha': 814}. Best is trial 29 with value: 0.02772.\u001b[0m\n",
      "\u001b[32m[I 2021-11-30 13:21:49,497]\u001b[0m Trial 288 finished with value: 0.02775 and parameters: {'alpha': 363}. Best is trial 29 with value: 0.02772.\u001b[0m\n",
      "\u001b[32m[I 2021-11-30 13:21:50,196]\u001b[0m Trial 289 finished with value: 0.02773 and parameters: {'alpha': 659}. Best is trial 29 with value: 0.02772.\u001b[0m\n",
      "\u001b[32m[I 2021-11-30 13:21:50,895]\u001b[0m Trial 290 finished with value: 0.02772 and parameters: {'alpha': 587}. Best is trial 29 with value: 0.02772.\u001b[0m\n",
      "\u001b[32m[I 2021-11-30 13:21:51,598]\u001b[0m Trial 291 finished with value: 0.02775 and parameters: {'alpha': 814}. Best is trial 29 with value: 0.02772.\u001b[0m\n",
      "\u001b[32m[I 2021-11-30 13:21:52,306]\u001b[0m Trial 292 finished with value: 0.02798 and parameters: {'alpha': 93}. Best is trial 29 with value: 0.02772.\u001b[0m\n",
      "\u001b[32m[I 2021-11-30 13:21:53,006]\u001b[0m Trial 293 finished with value: 0.02775 and parameters: {'alpha': 356}. Best is trial 29 with value: 0.02772.\u001b[0m\n",
      "\u001b[32m[I 2021-11-30 13:21:53,711]\u001b[0m Trial 294 finished with value: 0.02786 and parameters: {'alpha': 167}. Best is trial 29 with value: 0.02772.\u001b[0m\n",
      "\u001b[32m[I 2021-11-30 13:21:54,415]\u001b[0m Trial 295 finished with value: 0.02968 and parameters: {'alpha': 7330}. Best is trial 29 with value: 0.02772.\u001b[0m\n",
      "\u001b[32m[I 2021-11-30 13:21:55,115]\u001b[0m Trial 296 finished with value: 0.02782 and parameters: {'alpha': 1163}. Best is trial 29 with value: 0.02772.\u001b[0m\n",
      "\u001b[32m[I 2021-11-30 13:21:55,820]\u001b[0m Trial 297 finished with value: 0.02773 and parameters: {'alpha': 455}. Best is trial 29 with value: 0.02772.\u001b[0m\n",
      "\u001b[32m[I 2021-11-30 13:21:56,520]\u001b[0m Trial 298 finished with value: 0.02777 and parameters: {'alpha': 964}. Best is trial 29 with value: 0.02772.\u001b[0m\n",
      "\u001b[32m[I 2021-11-30 13:21:57,219]\u001b[0m Trial 299 finished with value: 0.02774 and parameters: {'alpha': 742}. Best is trial 29 with value: 0.02772.\u001b[0m\n"
     ]
    },
    {
     "data": {
      "text/plain": [
       "{'alpha': 608}"
      ]
     },
     "execution_count": 92,
     "metadata": {},
     "output_type": "execute_result"
    }
   ],
   "source": [
    "import optuna\n",
    "\n",
    "# 1. Define an objective function to be maximized.\n",
    "def objective(trial):\n",
    "\n",
    "    # 2. Suggest values for the hyperparameters using a trial object.\n",
    "    alpha = trial.suggest_int('alpha', 1, 10000)\n",
    "    \n",
    "    mod = linear_model.Ridge(alpha=alpha, fit_intercept=False)\n",
    "    mod.fit(X_train,Y_train)\n",
    "\n",
    "    Y_pred=mod.predict(X_val)\n",
    "\n",
    "    return MSE(Y_val, Y_pred)\n",
    "\n",
    "# 3. Create a study object and optimize the objective function.\n",
    "study = optuna.create_study(direction='minimize')\n",
    "study.optimize(objective, n_trials=300)\n",
    "study.best_params"
   ]
  },
  {
   "cell_type": "code",
   "execution_count": 93,
   "metadata": {},
   "outputs": [
    {
     "name": "stdout",
     "output_type": "stream",
     "text": [
      "Training MSE:  0.01567\n",
      "Training MAE:  0.09681\n",
      "Validation MSE:  0.02772\n",
      "Validation MAE:  0.13231\n",
      "Test MSE:  0.02626\n",
      "Test MAE:  0.12854\n"
     ]
    },
    {
     "data": {
      "text/plain": [
       "array([ 1.75546977e-01,  9.17489856e-03,  1.06880552e-02,  1.10851086e-02,\n",
       "        9.13751740e-03,  4.91691074e-03,  5.34566157e-03,  1.17663587e-02,\n",
       "        1.25352508e-02,  1.04455733e-02,  1.23583816e-02,  1.09371744e-02,\n",
       "        1.11860418e-02,  1.63716479e-02,  1.19519515e-02,  1.11194823e-02,\n",
       "        1.06462381e-02,  4.65921697e-03,  2.56704465e-04, -5.88728681e-03,\n",
       "       -6.64771639e-03, -6.86061866e-03, -9.70696352e-03, -6.58524401e-03,\n",
       "       -3.65195077e-03, -3.76434966e-03, -2.39895217e-03, -1.59736402e-04,\n",
       "        1.12288575e-03,  4.48402982e-03,  3.26229896e-02, -4.86530281e-02,\n",
       "        1.64667087e-01,  2.57421857e-01,  2.62879717e-01,  8.37024310e-02,\n",
       "       -7.50690780e-02, -1.27854713e-01, -7.24770802e-02])"
      ]
     },
     "execution_count": 93,
     "metadata": {},
     "output_type": "execute_result"
    }
   ],
   "source": [
    "mod = linear_model.Ridge(alpha=608, fit_intercept=False)\n",
    "mod.fit(X_train,Y_train)\n",
    "\n",
    "Y_pred=mod.predict(X_train)\n",
    "print(\"Training MSE: \", MSE(Y_train, Y_pred))\n",
    "print(\"Training MAE: \", MAE(Y_train, Y_pred))\n",
    "\n",
    "Y_pred=mod.predict(X_val)    \n",
    "print(\"Validation MSE: \", MSE(Y_val, Y_pred))\n",
    "print(\"Validation MAE: \", MAE(Y_val, Y_pred))\n",
    "\n",
    "Y_pred=mod.predict(X_test)     \n",
    "print(\"Test MSE: \", MSE(Y_test, Y_pred))\n",
    "print(\"Test MAE: \", MAE(Y_test, Y_pred))\n",
    "\n",
    "mod.coef_"
   ]
  },
  {
   "cell_type": "markdown",
   "metadata": {},
   "source": [
    "## Unsucessful Models"
   ]
  },
  {
   "cell_type": "markdown",
   "metadata": {},
   "source": [
    "### Basic Linear Rgression"
   ]
  },
  {
   "cell_type": "code",
   "execution_count": 58,
   "metadata": {},
   "outputs": [
    {
     "name": "stderr",
     "output_type": "stream",
     "text": [
      "100%|██████████| 92567/92567 [00:30<00:00, 3076.73it/s]\n"
     ]
    }
   ],
   "source": [
    "count_s=defaultdict()\n",
    "count_u=defaultdict()\n",
    "count_i=defaultdict()\n",
    "\n",
    "usersPerImage=defaultdict(set)\n",
    "imagesPerUser=defaultdict(set)\n",
    "ScoresPerImage=defaultdict(list)\n",
    "\n",
    "X=[]\n",
    "Y=[]\n",
    "    \n",
    "for i in tqdm(range(len(train))):\n",
    "    d=train[i]\n",
    "    \n",
    "    sub=d['subreddit']\n",
    "    user=d['username']\n",
    "    image=d['#image_id']\n",
    "    score=d['score_norm']\n",
    "    \n",
    "    if sub not in count_s:\n",
    "        count_s[sub]=0\n",
    "    \n",
    "    if user not in count_u:\n",
    "        count_u[user]=0\n",
    "        \n",
    "    if image not in count_i:\n",
    "        count_i[image]=0\n",
    "    \n",
    "    count_s[sub]+=1\n",
    "    count_i[image]+=1\n",
    "    count_u[user]+=1\n",
    "\n",
    "    usersPerImage[image].add(user)\n",
    "    imagesPerUser[user].add(image)\n",
    "    if image not in ScoresPerImage:\n",
    "        ScoresPerImage[image]=[]\n",
    "        \n",
    "    ScoresPerImage[image].append(score)\n",
    "    \n",
    "    X.append(feature(d,e=False, f=False, g=False, h=False, i=False, train=True))\n",
    "    Y.append(score)"
   ]
  },
  {
   "cell_type": "code",
   "execution_count": 59,
   "metadata": {},
   "outputs": [
    {
     "data": {
      "text/plain": [
       "array([-1.09407255e-20,  4.72072841e-03,  6.25943283e-03,  7.23854766e-03,\n",
       "        4.80498769e-03,  4.12979192e-04,  5.59504665e-04,  1.18459111e-03,\n",
       "        2.14722561e-03, -4.40551815e-04,  2.24519363e-03,  8.21167658e-04,\n",
       "       -6.26754972e-04,  6.00795243e-03,  2.03128286e-04, -7.77582191e-04,\n",
       "       -2.21096286e-03, -1.15943028e-02, -1.65343459e-02, -2.61954089e-02,\n",
       "       -2.53963208e-02, -2.34785946e-02, -2.64507340e-02, -2.15377212e-02,\n",
       "       -1.78072700e-02, -1.85730874e-02, -1.68603076e-02, -1.42005402e-02,\n",
       "       -1.28559416e-02, -8.83037845e-03,  4.93801059e-02, -1.04926352e-01])"
      ]
     },
     "execution_count": 59,
     "metadata": {},
     "output_type": "execute_result"
    }
   ],
   "source": [
    "mod = linear_model.LinearRegression()\n",
    "mod.fit(X,Y)\n",
    "mod.coef_"
   ]
  },
  {
   "cell_type": "code",
   "execution_count": 60,
   "metadata": {},
   "outputs": [
    {
     "name": "stdout",
     "output_type": "stream",
     "text": [
      "Training MSE:  0.01855\n",
      "Training MAE:  0.10527\n"
     ]
    }
   ],
   "source": [
    "Y_pred=mod.predict(X)\n",
    "print(\"Training MSE: \", MSE(Y, Y_pred))\n",
    "print(\"Training MAE: \", MAE(Y, Y_pred))"
   ]
  },
  {
   "cell_type": "code",
   "execution_count": 61,
   "metadata": {},
   "outputs": [
    {
     "name": "stderr",
     "output_type": "stream",
     "text": [
      "100%|██████████| 11571/11571 [00:03<00:00, 3161.48it/s]"
     ]
    },
    {
     "name": "stdout",
     "output_type": "stream",
     "text": [
      "Validation MSE:  0.03106\n",
      "Validation MAE:  0.14056\n"
     ]
    },
    {
     "name": "stderr",
     "output_type": "stream",
     "text": [
      "\n"
     ]
    }
   ],
   "source": [
    "X=[]\n",
    "Y=[]\n",
    "\n",
    "for i in tqdm(range(len(val))):\n",
    "    d=val[i]\n",
    "    X.append(feature(d,e=False, f=False, g=False, h=False, i=False))\n",
    "    score=d['score_norm']\n",
    "    Y.append(score)\n",
    "\n",
    "Y_pred=mod.predict(X)    \n",
    "print(\"Validation MSE: \", MSE(Y, Y_pred))\n",
    "print(\"Validation MAE: \", MAE(Y, Y_pred))"
   ]
  },
  {
   "cell_type": "code",
   "execution_count": 62,
   "metadata": {},
   "outputs": [
    {
     "name": "stderr",
     "output_type": "stream",
     "text": [
      "100%|██████████| 11571/11571 [00:03<00:00, 3174.74it/s]"
     ]
    },
    {
     "name": "stdout",
     "output_type": "stream",
     "text": [
      "Test MSE:  0.0297\n",
      "Test MAE:  0.13653\n"
     ]
    },
    {
     "name": "stderr",
     "output_type": "stream",
     "text": [
      "\n"
     ]
    }
   ],
   "source": [
    "X=[]\n",
    "Y=[]\n",
    "\n",
    "for i in tqdm(range(len(test))):\n",
    "    d=test[i]\n",
    "    X.append(feature(d,e=False, f=False, g=False, h=False, i=False))\n",
    "    score=d['score_norm']\n",
    "    Y.append(score)\n",
    "\n",
    "Y_pred=mod.predict(X)     \n",
    "print(\"Test MSE: \", MSE(Y, Y_pred))\n",
    "print(\"Test MAE: \", MAE(Y, Y_pred))"
   ]
  },
  {
   "cell_type": "markdown",
   "metadata": {},
   "source": [
    "### Only Jaccard Similarity"
   ]
  },
  {
   "cell_type": "code",
   "execution_count": 34,
   "metadata": {},
   "outputs": [
    {
     "name": "stderr",
     "output_type": "stream",
     "text": [
      "  0%|                                                                                                                                                                             | 0/92567 [00:00<?, ?it/s]\n"
     ]
    },
    {
     "ename": "NameError",
     "evalue": "name 'SimilarityPred' is not defined",
     "output_type": "error",
     "traceback": [
      "\u001b[0;31m---------------------------------------------------------------------------\u001b[0m",
      "\u001b[0;31mNameError\u001b[0m                                 Traceback (most recent call last)",
      "\u001b[0;32m/tmp/ipykernel_5705/1573833707.py\u001b[0m in \u001b[0;36m<module>\u001b[0;34m\u001b[0m\n\u001b[1;32m     20\u001b[0m \u001b[0;34m\u001b[0m\u001b[0m\n\u001b[1;32m     21\u001b[0m     \u001b[0mScoresPerImage\u001b[0m\u001b[0;34m[\u001b[0m\u001b[0mimage\u001b[0m\u001b[0;34m]\u001b[0m\u001b[0;34m.\u001b[0m\u001b[0mappend\u001b[0m\u001b[0;34m(\u001b[0m\u001b[0mscore\u001b[0m\u001b[0;34m)\u001b[0m\u001b[0;34m\u001b[0m\u001b[0;34m\u001b[0m\u001b[0m\n\u001b[0;32m---> 22\u001b[0;31m     \u001b[0mpred\u001b[0m\u001b[0;34m=\u001b[0m \u001b[0mSimilarityPred\u001b[0m\u001b[0;34m(\u001b[0m\u001b[0muser\u001b[0m\u001b[0;34m,\u001b[0m\u001b[0mimage\u001b[0m\u001b[0;34m)\u001b[0m\u001b[0;34m\u001b[0m\u001b[0;34m\u001b[0m\u001b[0m\n\u001b[0m\u001b[1;32m     23\u001b[0m \u001b[0;34m\u001b[0m\u001b[0m\n\u001b[1;32m     24\u001b[0m     \u001b[0mX\u001b[0m\u001b[0;34m.\u001b[0m\u001b[0mappend\u001b[0m\u001b[0;34m(\u001b[0m\u001b[0mpred\u001b[0m\u001b[0;34m)\u001b[0m\u001b[0;34m\u001b[0m\u001b[0;34m\u001b[0m\u001b[0m\n",
      "\u001b[0;31mNameError\u001b[0m: name 'SimilarityPred' is not defined"
     ]
    }
   ],
   "source": [
    "usersPerImage=defaultdict(set)\n",
    "imagesPerUser=defaultdict(set)\n",
    "ScoresPerImage=defaultdict(list)\n",
    "\n",
    "X=[]\n",
    "Y=[]\n",
    "    \n",
    "for i in tqdm(range(len(train))):\n",
    "    d=train[i]\n",
    "    \n",
    "    sub=d['subreddit']\n",
    "    user=d['username']\n",
    "    image=d['#image_id']\n",
    "    score=d['score_norm']\n",
    "    \n",
    "    usersPerImage[image].add(user)\n",
    "    imagesPerUser[user].add(image)\n",
    "    if image not in ScoresPerImage:\n",
    "        ScoresPerImage[image]=[]\n",
    "        \n",
    "    ScoresPerImage[image].append(score)\n",
    "    pred= SimilarityPred(user,image)\n",
    "    \n",
    "    X.append(pred)\n",
    "    Y.append(score)\n",
    "    \n",
    "print(\"Training MSE: \", MSE(Y, X))\n",
    "print(\"Training MAE: \", MAE(Y, X))"
   ]
  },
  {
   "cell_type": "code",
   "execution_count": 64,
   "metadata": {},
   "outputs": [
    {
     "name": "stderr",
     "output_type": "stream",
     "text": [
      "100%|██████████| 11571/11571 [00:43<00:00, 266.61it/s]"
     ]
    },
    {
     "name": "stdout",
     "output_type": "stream",
     "text": [
      "Validation MSE:  0.03397\n",
      "Validation MAE:  0.14801\n"
     ]
    },
    {
     "name": "stderr",
     "output_type": "stream",
     "text": [
      "\n"
     ]
    }
   ],
   "source": [
    "X=[]\n",
    "Y=[]\n",
    "    \n",
    "for i in tqdm(range(len(val))):\n",
    "    d=val[i]\n",
    "    \n",
    "    user=d['username']\n",
    "    image=d['#image_id']\n",
    "    score=d['score_norm']\n",
    "    \n",
    "    pred= SimilarityPred(user,image)\n",
    "    \n",
    "    X.append(pred)\n",
    "    Y.append(score)\n",
    "    \n",
    "print(\"Validation MSE: \", MSE(Y, X))\n",
    "print(\"Validation MAE: \", MAE(Y, X))"
   ]
  },
  {
   "cell_type": "code",
   "execution_count": 65,
   "metadata": {},
   "outputs": [
    {
     "name": "stderr",
     "output_type": "stream",
     "text": [
      "100%|██████████| 11571/11571 [00:49<00:00, 234.63it/s]"
     ]
    },
    {
     "name": "stdout",
     "output_type": "stream",
     "text": [
      "Test MSE:  0.03366\n",
      "Test MAE:  0.14536\n"
     ]
    },
    {
     "name": "stderr",
     "output_type": "stream",
     "text": [
      "\n"
     ]
    }
   ],
   "source": [
    "X=[]\n",
    "Y=[]\n",
    "    \n",
    "for i in tqdm(range(len(test))):\n",
    "    d=test[i]\n",
    "    \n",
    "    user=d['username']\n",
    "    image=d['#image_id']\n",
    "    score=d['score_norm']\n",
    "    \n",
    "    pred= SimilarityPred(user,image)\n",
    "    \n",
    "    X.append(pred)\n",
    "    Y.append(score)\n",
    "    \n",
    "print(\"Test MSE: \", MSE(Y, X))\n",
    "print(\"Test MAE: \", MAE(Y, X))"
   ]
  },
  {
   "cell_type": "code",
   "execution_count": null,
   "metadata": {},
   "outputs": [],
   "source": []
  },
  {
   "cell_type": "code",
   "execution_count": null,
   "metadata": {},
   "outputs": [],
   "source": []
  },
  {
   "cell_type": "code",
   "execution_count": 13,
   "metadata": {},
   "outputs": [
    {
     "data": {
      "image/png": "[encoded data removed]",
      "text/plain": [
       "<Figure size 432x288 with 1 Axes>"
      ]
     },
     "metadata": {
      "needs_background": "light"
     },
     "output_type": "display_data"
    },
    {
     "data": {
      "text/plain": [
       "<Figure size 640x480 with 0 Axes>"
      ]
     },
     "metadata": {},
     "output_type": "display_data"
    }
   ],
   "source": [
    "import matplotlib.pyplot as plt\n",
    "import pandas as pd\n",
    "\n",
    "# data = {'MSE': {'Baseline 1': 0.03244, 'Baseline 2': 0.03308, 'Baseline 3': 0.03102, 'Linear Model 1': 0.02717, 'Linear Model 2': 0.02669,\n",
    "#                 'Ridge': 0.02626, 'FM 1': 0.02643, 'FM 2': 0.02476}}\n",
    "data = pd.DataFrame({'MSE': [0.03244, 0.03308, 0.03102, 0.02717, 0.02669, 0.02626, 0.02643, 0.02476]}, \n",
    "                   index=['Baseline 1', 'Baseline 2', 'Baseline 3', 'Linear Model 1', 'Linear Model 2', 'Ridge', 'FM 1', 'FM 2'])\n",
    "df = pd.DataFrame(data)\n",
    "\n",
    "ax = df.plot.bar(ylim=(0.015, 0.040))\n",
    "for p in ax.patches:\n",
    "#     ax.annotate(str(p.get_height()), (p.get_x() + 0.1, p.get_height() * 0.2), color='white', rotation=90)\n",
    "    ax.annotate(str(p.get_height()), (p.get_x() + 0.15, 0.017), color='white', rotation=90)\n",
    "plt.figure(figsize=(8, 6), dpi=80)\n",
    "plt.show()"
   ]
  },
  {
   "cell_type": "code",
   "execution_count": null,
   "metadata": {},
   "outputs": [],
   "source": []
  }
 ],
 "metadata": {
  "kernelspec": {
   "display_name": "cse258_kernel",
   "language": "python",
   "name": "cse258_kernel"
  },
  "language_info": {
   "codemirror_mode": {
    "name": "ipython",
    "version": 3
   },
   "file_extension": ".py",
   "mimetype": "text/x-python",
   "name": "python",
   "nbconvert_exporter": "python",
   "pygments_lexer": "ipython3",
   "version": "3.9.7"
  }
 },
 "nbformat": 4,
 "nbformat_minor": 5
}

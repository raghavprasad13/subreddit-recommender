{
 "cells": [
  {
   "cell_type": "code",
   "execution_count": 1,
   "metadata": {},
   "outputs": [],
   "source": [
    "import gzip\n",
    "import bz2\n",
    "import csv\n",
    "import pandas as pd\n",
    "from collections import defaultdict\n",
    "from scipy.sparse import coo_matrix\n",
    "from implicit.als import AlternatingLeastSquares\n",
    "from implicit.nearest_neighbours import bm25_weight\n",
    "import numpy as np"
   ]
  },
  {
   "cell_type": "code",
   "execution_count": 2,
   "metadata": {},
   "outputs": [],
   "source": [
    "def readGz(path):\n",
    "    unzipper = gzip\n",
    "    if path.endswith('bz2'):\n",
    "        unzipper = bz2\n",
    "    for l in unzipper.open(path, 'rt'):\n",
    "        yield eval(l)"
   ]
  },
  {
   "cell_type": "code",
   "execution_count": 3,
   "metadata": {},
   "outputs": [],
   "source": [
    "def readCSV(path):\n",
    "    f = gzip.open(path, 'rt')\n",
    "    c = csv.reader(f)\n",
    "    header = next(c)\n",
    "    for l in c:\n",
    "        d = dict(zip(header,l))\n",
    "        yield d"
   ]
  },
  {
   "cell_type": "code",
   "execution_count": 4,
   "metadata": {},
   "outputs": [
    {
     "data": {
      "text/plain": [
       "112048"
      ]
     },
     "execution_count": 4,
     "metadata": {},
     "output_type": "execute_result"
    }
   ],
   "source": [
    "data = list(readCSV('redditSubmissions.csv.gz'))\n",
    "data = list(filter(lambda x: 'username' in x and len(x['username']) > 0 and 'subreddit' in x and len(x['subreddit']) > 0, data))\n",
    "len(data)"
   ]
  },
  {
   "cell_type": "code",
   "execution_count": 5,
   "metadata": {},
   "outputs": [
    {
     "data": {
      "text/plain": [
       "{'#image_id': '0',\n",
       " 'unixtime': '1333172439',\n",
       " 'rawtime': '2012-03-31T12:40:39.590113-07:00',\n",
       " 'title': \"And here's a downvote.\",\n",
       " 'total_votes': '63470',\n",
       " 'reddit_id': 'rmqjs',\n",
       " 'number_of_upvotes': '32657',\n",
       " 'subreddit': 'funny',\n",
       " 'number_of_downvotes': '30813',\n",
       " 'localtime': '1333197639',\n",
       " 'score': '1844',\n",
       " 'number_of_comments': '622',\n",
       " 'username': 'Animates_Everything'}"
      ]
     },
     "execution_count": 5,
     "metadata": {},
     "output_type": "execute_result"
    }
   ],
   "source": [
    "data[0]"
   ]
  },
  {
   "cell_type": "code",
   "execution_count": 6,
   "metadata": {},
   "outputs": [],
   "source": [
    "user_posts = defaultdict(int)\n",
    "for d in data:\n",
    "    user = d['username']\n",
    "    subreddit = d['subreddit']\n",
    "    engagement = 0\n",
    "    if int(d['total_votes']) > 0:\n",
    "        engagement = int(d['number_of_upvotes']) / int(d['total_votes']) # can be number_of_posts, score, or number_of_upvotes\n",
    "    user_posts[(user, subreddit)] += engagement"
   ]
  },
  {
   "cell_type": "code",
   "execution_count": 7,
   "metadata": {},
   "outputs": [],
   "source": [
    "# df = pd.DataFrame(user_posts)\n",
    "# df.head()\n",
    "data_li = []\n",
    "for key, score in user_posts.items():\n",
    "    data_li.append([key[0], key[1], score])"
   ]
  },
  {
   "cell_type": "code",
   "execution_count": 8,
   "metadata": {},
   "outputs": [],
   "source": [
    "df = pd.DataFrame(data_li, columns=['username', 'subreddit', 'score'])"
   ]
  },
  {
   "cell_type": "code",
   "execution_count": 9,
   "metadata": {},
   "outputs": [
    {
     "name": "stdout",
     "output_type": "stream",
     "text": [
      "<class 'pandas.core.frame.DataFrame'>\n",
      "RangeIndex: 76197 entries, 0 to 76196\n",
      "Data columns (total 3 columns):\n",
      " #   Column     Non-Null Count  Dtype   \n",
      "---  ------     --------------  -----   \n",
      " 0   username   76197 non-null  category\n",
      " 1   subreddit  76197 non-null  category\n",
      " 2   score      76197 non-null  float64 \n",
      "dtypes: category(2), float64(1)\n",
      "memory usage: 3.6 MB\n"
     ]
    }
   ],
   "source": [
    "df['subreddit'] = df['subreddit'].astype('category')\n",
    "df['username'] = df['username'].astype('category')\n",
    "df.info()"
   ]
  },
  {
   "cell_type": "code",
   "execution_count": 10,
   "metadata": {},
   "outputs": [
    {
     "data": {
      "text/html": [
       "<div>\n",
       "<style scoped>\n",
       "    .dataframe tbody tr th:only-of-type {\n",
       "        vertical-align: middle;\n",
       "    }\n",
       "\n",
       "    .dataframe tbody tr th {\n",
       "        vertical-align: top;\n",
       "    }\n",
       "\n",
       "    .dataframe thead th {\n",
       "        text-align: right;\n",
       "    }\n",
       "</style>\n",
       "<table border=\"1\" class=\"dataframe\">\n",
       "  <thead>\n",
       "    <tr style=\"text-align: right;\">\n",
       "      <th></th>\n",
       "      <th>username</th>\n",
       "      <th>subreddit</th>\n",
       "      <th>score</th>\n",
       "    </tr>\n",
       "  </thead>\n",
       "  <tbody>\n",
       "    <tr>\n",
       "      <th>0</th>\n",
       "      <td>Animates_Everything</td>\n",
       "      <td>funny</td>\n",
       "      <td>1.030085</td>\n",
       "    </tr>\n",
       "    <tr>\n",
       "      <th>1</th>\n",
       "      <td>Gangsta_Raper</td>\n",
       "      <td>GifSound</td>\n",
       "      <td>3692.464760</td>\n",
       "    </tr>\n",
       "    <tr>\n",
       "      <th>2</th>\n",
       "      <td>Hellothereawesome</td>\n",
       "      <td>gifs</td>\n",
       "      <td>0.425000</td>\n",
       "    </tr>\n",
       "    <tr>\n",
       "      <th>3</th>\n",
       "      <td>HadManySons</td>\n",
       "      <td>pics</td>\n",
       "      <td>0.450000</td>\n",
       "    </tr>\n",
       "    <tr>\n",
       "      <th>4</th>\n",
       "      <td>TraumaticASH</td>\n",
       "      <td>gifs</td>\n",
       "      <td>0.476190</td>\n",
       "    </tr>\n",
       "    <tr>\n",
       "      <th>5</th>\n",
       "      <td>MidgetDance1337</td>\n",
       "      <td>gifs</td>\n",
       "      <td>0.774908</td>\n",
       "    </tr>\n",
       "    <tr>\n",
       "      <th>6</th>\n",
       "      <td>Pazzaz</td>\n",
       "      <td>funny</td>\n",
       "      <td>0.542972</td>\n",
       "    </tr>\n",
       "    <tr>\n",
       "      <th>7</th>\n",
       "      <td>koolkows</td>\n",
       "      <td>funny</td>\n",
       "      <td>0.380952</td>\n",
       "    </tr>\n",
       "    <tr>\n",
       "      <th>8</th>\n",
       "      <td>Moncole</td>\n",
       "      <td>funny</td>\n",
       "      <td>0.583333</td>\n",
       "    </tr>\n",
       "    <tr>\n",
       "      <th>9</th>\n",
       "      <td>shortguy014</td>\n",
       "      <td>gaming</td>\n",
       "      <td>0.380952</td>\n",
       "    </tr>\n",
       "  </tbody>\n",
       "</table>\n",
       "</div>"
      ],
      "text/plain": [
       "              username subreddit        score\n",
       "0  Animates_Everything     funny     1.030085\n",
       "1        Gangsta_Raper  GifSound  3692.464760\n",
       "2    Hellothereawesome      gifs     0.425000\n",
       "3          HadManySons      pics     0.450000\n",
       "4         TraumaticASH      gifs     0.476190\n",
       "5      MidgetDance1337      gifs     0.774908\n",
       "6               Pazzaz     funny     0.542972\n",
       "7             koolkows     funny     0.380952\n",
       "8              Moncole     funny     0.583333\n",
       "9          shortguy014    gaming     0.380952"
      ]
     },
     "execution_count": 10,
     "metadata": {},
     "output_type": "execute_result"
    }
   ],
   "source": [
    "df.head(10)"
   ]
  },
  {
   "cell_type": "code",
   "execution_count": 11,
   "metadata": {},
   "outputs": [],
   "source": [
    "comments = coo_matrix((df['score'].astype(float), \n",
    "                   (df['subreddit'].cat.codes, \n",
    "                    df['username'].cat.codes)))"
   ]
  },
  {
   "cell_type": "code",
   "execution_count": 12,
   "metadata": {},
   "outputs": [],
   "source": [
    "csr_comments = comments.tocsr()"
   ]
  },
  {
   "cell_type": "code",
   "execution_count": 13,
   "metadata": {},
   "outputs": [
    {
     "name": "stderr",
     "output_type": "stream",
     "text": [
      "100%|██████████| 20/20 [00:45<00:00,  2.25s/it]\n"
     ]
    }
   ],
   "source": [
    "model = AlternatingLeastSquares(factors=100, iterations=20)\n",
    "model.fit(bm25_weight(csr_comments))"
   ]
  },
  {
   "cell_type": "code",
   "execution_count": 14,
   "metadata": {},
   "outputs": [],
   "source": [
    "subreddit_factors, user_factors = model.item_factors, model.user_factors"
   ]
  },
  {
   "cell_type": "code",
   "execution_count": 15,
   "metadata": {},
   "outputs": [],
   "source": [
    "class RecommenderSystem(object):\n",
    "    def __init__(self, subreddit_factors):\n",
    "        norms = np.linalg.norm(subreddit_factors, axis=-1)\n",
    "        self.factors = subreddit_factors / norms[:, np.newaxis]\n",
    "        self.subreddits = df['subreddit'].cat.categories.array.to_numpy()\n",
    "\n",
    "    def get_related(self, subreddit, N=10):\n",
    "        subredditid = np.where(self.subreddits == subreddit)[0][0]\n",
    "        scores = self.factors.dot(self.factors[subredditid])\n",
    "        best = np.argpartition(scores, -N)[-N:]\n",
    "        best_ = [self.subreddits[i] for i in best]\n",
    "        return sorted(zip(best_, scores[best]), key=lambda x: -x[1])"
   ]
  },
  {
   "cell_type": "code",
   "execution_count": 16,
   "metadata": {},
   "outputs": [],
   "source": [
    "top_related_subreddits = RecommenderSystem(subreddit_factors)\n"
   ]
  },
  {
   "cell_type": "code",
   "execution_count": 22,
   "metadata": {},
   "outputs": [
    {
     "data": {
      "text/plain": [
       "[('CrappyDesign', 1.0),\n",
       " ('Art', 0.9258941),\n",
       " ('chicago', 0.8314631),\n",
       " ('nope', 0.6441259),\n",
       " ('gamegrumps', 0.4420331),\n",
       " ('linux_gaming', 0.39905274),\n",
       " ('soccer', 0.37757373),\n",
       " ('Over 9000', 0.37359935),\n",
       " ('shittyfoodporn', 0.37307596),\n",
       " ('weareallfriendshere', 0.3685921),\n",
       " ('FoodPorn', 0.34834355),\n",
       " ('FinalFantasy', 0.34477356),\n",
       " ('Watches', 0.3446886),\n",
       " ('lostgeneration', 0.34303454),\n",
       " ('Pets', 0.34283724),\n",
       " ('golf', 0.3383833),\n",
       " ('Modern technology at its pinnacle', 0.33748755),\n",
       " ('Rabbits', 0.3368399),\n",
       " ('Boss', 0.33577192),\n",
       " ('runescape', 0.3223161)]"
      ]
     },
     "execution_count": 22,
     "metadata": {},
     "output_type": "execute_result"
    }
   ],
   "source": [
    "top_related_subreddits.get_related('CrappyDesign', 20)"
   ]
  },
  {
   "cell_type": "code",
   "execution_count": null,
   "metadata": {},
   "outputs": [],
   "source": []
  }
 ],
 "metadata": {
  "interpreter": {
   "hash": "b0fa6594d8f4cbf19f97940f81e996739fb7646882a419484c72d19e05852a7e"
  },
  "kernelspec": {
   "display_name": "Python 3.9.9 64-bit",
   "language": "python",
   "name": "python3"
  },
  "language_info": {
   "codemirror_mode": {
    "name": "ipython",
    "version": 3
   },
   "file_extension": ".py",
   "mimetype": "text/x-python",
   "name": "python",
   "nbconvert_exporter": "python",
   "pygments_lexer": "ipython3",
   "version": "3.9.0"
  },
  "orig_nbformat": 4
 },
 "nbformat": 4,
 "nbformat_minor": 2
}
